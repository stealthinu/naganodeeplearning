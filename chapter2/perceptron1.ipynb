{
 "cells": [
  {
   "cell_type": "code",
   "execution_count": 10,
   "metadata": {
    "collapsed": false,
    "scrolled": true
   },
   "outputs": [
    {
     "name": "stdout",
     "output_type": "stream",
     "text": [
      "Cloning into 'jupyter_tfbook'...\n",
      "remote: Counting objects: 172, done.\u001b[K\n",
      "remote: Compressing objects: 100% (70/70), done.\u001b[K\n",
      "remote: Total 172 (delta 102), reused 172 (delta 102), pack-reused 0\u001b[K\n",
      "Receiving objects: 100% (172/172), 1.88 MiB | 300.00 KiB/s, done.\n",
      "Resolving deltas: 100% (102/102), done.\n",
      "Checking connectivity... done.\n"
     ]
    }
   ],
   "source": [
    "!git clone https://github.com/enakai00/jupyter_tfbook"
   ]
  },
  {
   "cell_type": "code",
   "execution_count": 11,
   "metadata": {
    "collapsed": false
   },
   "outputs": [
    {
     "name": "stdout",
     "output_type": "stream",
     "text": [
      "Cloning into 'deep-learning-from-scratch'...\n",
      "remote: Counting objects: 271, done.\u001b[K\n",
      "remote: Compressing objects: 100% (33/33), done.\u001b[K\n",
      "remote: Total 271 (delta 14), reused 0 (delta 0), pack-reused 238\u001b[K\n",
      "Receiving objects: 100% (271/271), 4.69 MiB | 356.00 KiB/s, done.\n",
      "Resolving deltas: 100% (124/124), done.\n",
      "Checking connectivity... done.\n"
     ]
    }
   ],
   "source": [
    "!git clone https://github.com/oreilly-japan/deep-learning-from-scratch"
   ]
  },
  {
   "cell_type": "code",
   "execution_count": 2,
   "metadata": {
    "collapsed": true
   },
   "outputs": [],
   "source": [
    "import numpy as np"
   ]
  },
  {
   "cell_type": "code",
   "execution_count": 79,
   "metadata": {
    "collapsed": true
   },
   "outputs": [],
   "source": [
    "X = np.array([5, 0])"
   ]
  },
  {
   "cell_type": "code",
   "execution_count": 80,
   "metadata": {
    "collapsed": false
   },
   "outputs": [
    {
     "name": "stdout",
     "output_type": "stream",
     "text": [
      "[5 0]\n"
     ]
    }
   ],
   "source": [
    "print(X)"
   ]
  },
  {
   "cell_type": "code",
   "execution_count": 192,
   "metadata": {
    "collapsed": true
   },
   "outputs": [],
   "source": [
    "def h(x):\n",
    "    if x > 0:\n",
    "        return 1\n",
    "    else:\n",
    "        return 0"
   ]
  },
  {
   "cell_type": "code",
   "execution_count": 193,
   "metadata": {
    "collapsed": false
   },
   "outputs": [
    {
     "data": {
      "text/plain": [
       "0"
      ]
     },
     "execution_count": 193,
     "metadata": {},
     "output_type": "execute_result"
    }
   ],
   "source": [
    "h(-1)"
   ]
  },
  {
   "cell_type": "code",
   "execution_count": 194,
   "metadata": {
    "collapsed": false
   },
   "outputs": [
    {
     "data": {
      "text/plain": [
       "1"
      ]
     },
     "execution_count": 194,
     "metadata": {},
     "output_type": "execute_result"
    }
   ],
   "source": [
    "h(10)"
   ]
  },
  {
   "cell_type": "code",
   "execution_count": 380,
   "metadata": {
    "collapsed": true
   },
   "outputs": [],
   "source": [
    "W = np.array([1, 2])"
   ]
  },
  {
   "cell_type": "code",
   "execution_count": 381,
   "metadata": {
    "collapsed": true
   },
   "outputs": [],
   "source": [
    "b = 16"
   ]
  },
  {
   "cell_type": "code",
   "execution_count": 388,
   "metadata": {
    "collapsed": false
   },
   "outputs": [],
   "source": [
    "def output_perceptron(w, x):\n",
    "    # s = np.sum(w*x)\n",
    "    s = 0\n",
    "    for i in range(len(w)):\n",
    "        s += w[i] * x[i]\n",
    "    y = h(s - b)\n",
    "    #print(\"W:\" + str(w) + \" X:\" + str(x) + \" y:\" + str(y))\n",
    "    return y"
   ]
  },
  {
   "cell_type": "code",
   "execution_count": 389,
   "metadata": {
    "collapsed": false
   },
   "outputs": [
    {
     "data": {
      "text/plain": [
       "0"
      ]
     },
     "execution_count": 389,
     "metadata": {},
     "output_type": "execute_result"
    }
   ],
   "source": [
    "output_perceptron(W, X)"
   ]
  },
  {
   "cell_type": "code",
   "execution_count": 384,
   "metadata": {
    "collapsed": true
   },
   "outputs": [],
   "source": [
    "alpha = 1"
   ]
  },
  {
   "cell_type": "code",
   "execution_count": 385,
   "metadata": {
    "collapsed": true
   },
   "outputs": [],
   "source": [
    "def train_perceptron(w, x, t):\n",
    "    y = output_perceptron(w, x)\n",
    "    square_error = 0\n",
    "    for i in range(len(w)):\n",
    "        dw = alpha*(t - y)*h(x[i])\n",
    "        w[i] += dw\n",
    "        square_error += np.square(t - y)\n",
    "        #print(\"dw:\" + str(dw) + \" t:\" + str(t) + \" y:\" + str(y) + \" xi:\" + str(x[i]))\n",
    "        #print(\"t:\" + str(t) + \" y:\" + str(y) + \" x:\" + str(x[i]) + \" h(x):\" + str(h(x[i])) + \" dw:\" + str(dw))\n",
    "    return square_error"
   ]
  },
  {
   "cell_type": "code",
   "execution_count": 390,
   "metadata": {
    "collapsed": false
   },
   "outputs": [
    {
     "data": {
      "text/plain": [
       "2"
      ]
     },
     "execution_count": 390,
     "metadata": {},
     "output_type": "execute_result"
    }
   ],
   "source": [
    "train_perceptron(W, X, 1)"
   ]
  },
  {
   "cell_type": "code",
   "execution_count": 391,
   "metadata": {
    "collapsed": false
   },
   "outputs": [
    {
     "name": "stdout",
     "output_type": "stream",
     "text": [
      "[3 2]\n"
     ]
    }
   ],
   "source": [
    "print(W)"
   ]
  },
  {
   "cell_type": "code",
   "execution_count": 217,
   "metadata": {
    "collapsed": true
   },
   "outputs": [],
   "source": [
    "data    = np.array([[5, 0], [0, 4], [1, 1], [3, 4], [2, 3], [1, 3], [2, 1], [0, 2], [2, 2], [3, 0]])\n",
    "teacher = np.array([ 1,      1,      0,      1,      1,      1,      0,      0,      1,      0    ])"
   ]
  },
  {
   "cell_type": "code",
   "execution_count": 218,
   "metadata": {
    "collapsed": false
   },
   "outputs": [],
   "source": [
    "def train():\n",
    "    for count in range(30):\n",
    "        i = np.random.randint(10)\n",
    "        x = data[i]\n",
    "        t = teacher[i]\n",
    "        train_perceptron(W, x, t)\n",
    "        print(W)"
   ]
  },
  {
   "cell_type": "code",
   "execution_count": 235,
   "metadata": {
    "collapsed": false,
    "scrolled": true
   },
   "outputs": [
    {
     "name": "stdout",
     "output_type": "stream",
     "text": [
      "W:[1 3] X:[1 1] y:0\n",
      "t:0 y:0 x:1 h(x):1 dw:0\n",
      "t:0 y:0 x:1 h(x):1 dw:0\n",
      "[1 3]\n",
      "W:[1 3] X:[0 2] y:0\n",
      "t:0 y:0 x:0 h(x):0 dw:0\n",
      "t:0 y:0 x:2 h(x):1 dw:0\n",
      "[1 3]\n",
      "W:[1 3] X:[5 0] y:0\n",
      "t:1 y:0 x:5 h(x):1 dw:1\n",
      "t:1 y:0 x:0 h(x):0 dw:0\n",
      "[2 3]\n",
      "W:[2 3] X:[0 2] y:0\n",
      "t:0 y:0 x:0 h(x):0 dw:0\n",
      "t:0 y:0 x:2 h(x):1 dw:0\n",
      "[2 3]\n",
      "W:[2 3] X:[3 0] y:0\n",
      "t:0 y:0 x:3 h(x):1 dw:0\n",
      "t:0 y:0 x:0 h(x):0 dw:0\n",
      "[2 3]\n",
      "W:[2 3] X:[2 2] y:0\n",
      "t:1 y:0 x:2 h(x):1 dw:1\n",
      "t:1 y:0 x:2 h(x):1 dw:1\n",
      "[3 4]\n",
      "W:[3 4] X:[1 1] y:0\n",
      "t:0 y:0 x:1 h(x):1 dw:0\n",
      "t:0 y:0 x:1 h(x):1 dw:0\n",
      "[3 4]\n",
      "W:[3 4] X:[2 3] y:1\n",
      "t:1 y:1 x:2 h(x):1 dw:0\n",
      "t:1 y:1 x:3 h(x):1 dw:0\n",
      "[3 4]\n",
      "W:[3 4] X:[1 1] y:0\n",
      "t:0 y:0 x:1 h(x):1 dw:0\n",
      "t:0 y:0 x:1 h(x):1 dw:0\n",
      "[3 4]\n",
      "W:[3 4] X:[2 3] y:1\n",
      "t:1 y:1 x:2 h(x):1 dw:0\n",
      "t:1 y:1 x:3 h(x):1 dw:0\n",
      "[3 4]\n",
      "W:[3 4] X:[1 1] y:0\n",
      "t:0 y:0 x:1 h(x):1 dw:0\n",
      "t:0 y:0 x:1 h(x):1 dw:0\n",
      "[3 4]\n",
      "W:[3 4] X:[2 3] y:1\n",
      "t:1 y:1 x:2 h(x):1 dw:0\n",
      "t:1 y:1 x:3 h(x):1 dw:0\n",
      "[3 4]\n",
      "W:[3 4] X:[3 0] y:0\n",
      "t:0 y:0 x:3 h(x):1 dw:0\n",
      "t:0 y:0 x:0 h(x):0 dw:0\n",
      "[3 4]\n",
      "W:[3 4] X:[2 2] y:0\n",
      "t:1 y:0 x:2 h(x):1 dw:1\n",
      "t:1 y:0 x:2 h(x):1 dw:1\n",
      "[4 5]\n",
      "W:[4 5] X:[1 3] y:1\n",
      "t:1 y:1 x:1 h(x):1 dw:0\n",
      "t:1 y:1 x:3 h(x):1 dw:0\n",
      "[4 5]\n",
      "W:[4 5] X:[1 1] y:0\n",
      "t:0 y:0 x:1 h(x):1 dw:0\n",
      "t:0 y:0 x:1 h(x):1 dw:0\n",
      "[4 5]\n",
      "W:[4 5] X:[3 0] y:0\n",
      "t:0 y:0 x:3 h(x):1 dw:0\n",
      "t:0 y:0 x:0 h(x):0 dw:0\n",
      "[4 5]\n",
      "W:[4 5] X:[2 1] y:0\n",
      "t:0 y:0 x:2 h(x):1 dw:0\n",
      "t:0 y:0 x:1 h(x):1 dw:0\n",
      "[4 5]\n",
      "W:[4 5] X:[3 0] y:0\n",
      "t:0 y:0 x:3 h(x):1 dw:0\n",
      "t:0 y:0 x:0 h(x):0 dw:0\n",
      "[4 5]\n",
      "W:[4 5] X:[5 0] y:1\n",
      "t:1 y:1 x:5 h(x):1 dw:0\n",
      "t:1 y:1 x:0 h(x):0 dw:0\n",
      "[4 5]\n",
      "W:[4 5] X:[0 4] y:1\n",
      "t:1 y:1 x:0 h(x):0 dw:0\n",
      "t:1 y:1 x:4 h(x):1 dw:0\n",
      "[4 5]\n",
      "W:[4 5] X:[5 0] y:1\n",
      "t:1 y:1 x:5 h(x):1 dw:0\n",
      "t:1 y:1 x:0 h(x):0 dw:0\n",
      "[4 5]\n",
      "W:[4 5] X:[1 1] y:0\n",
      "t:0 y:0 x:1 h(x):1 dw:0\n",
      "t:0 y:0 x:1 h(x):1 dw:0\n",
      "[4 5]\n",
      "W:[4 5] X:[1 3] y:1\n",
      "t:1 y:1 x:1 h(x):1 dw:0\n",
      "t:1 y:1 x:3 h(x):1 dw:0\n",
      "[4 5]\n",
      "W:[4 5] X:[1 3] y:1\n",
      "t:1 y:1 x:1 h(x):1 dw:0\n",
      "t:1 y:1 x:3 h(x):1 dw:0\n",
      "[4 5]\n",
      "W:[4 5] X:[2 1] y:0\n",
      "t:0 y:0 x:2 h(x):1 dw:0\n",
      "t:0 y:0 x:1 h(x):1 dw:0\n",
      "[4 5]\n",
      "W:[4 5] X:[0 2] y:0\n",
      "t:0 y:0 x:0 h(x):0 dw:0\n",
      "t:0 y:0 x:2 h(x):1 dw:0\n",
      "[4 5]\n",
      "W:[4 5] X:[2 3] y:1\n",
      "t:1 y:1 x:2 h(x):1 dw:0\n",
      "t:1 y:1 x:3 h(x):1 dw:0\n",
      "[4 5]\n",
      "W:[4 5] X:[3 4] y:1\n",
      "t:1 y:1 x:3 h(x):1 dw:0\n",
      "t:1 y:1 x:4 h(x):1 dw:0\n",
      "[4 5]\n",
      "W:[4 5] X:[2 3] y:1\n",
      "t:1 y:1 x:2 h(x):1 dw:0\n",
      "t:1 y:1 x:3 h(x):1 dw:0\n",
      "[4 5]\n"
     ]
    }
   ],
   "source": [
    "W = np.array([1, 3])\n",
    "b = 16\n",
    "alpha = 1\n",
    "train()"
   ]
  },
  {
   "cell_type": "code",
   "execution_count": 237,
   "metadata": {
    "collapsed": false
   },
   "outputs": [
    {
     "name": "stdout",
     "output_type": "stream",
     "text": [
      "W:[ 1.  3.] X:[2 1] y:0\n",
      "t:0 y:0 x:2 h(x):1 dw:0.0\n",
      "t:0 y:0 x:1 h(x):1 dw:0.0\n",
      "[ 1.  3.]\n",
      "W:[ 1.  3.] X:[1 1] y:0\n",
      "t:0 y:0 x:1 h(x):1 dw:0.0\n",
      "t:0 y:0 x:1 h(x):1 dw:0.0\n",
      "[ 1.  3.]\n",
      "W:[ 1.  3.] X:[2 3] y:0\n",
      "t:1 y:0 x:2 h(x):1 dw:0.2\n",
      "t:1 y:0 x:3 h(x):1 dw:0.2\n",
      "[ 1.2  3.2]\n",
      "W:[ 1.2  3.2] X:[3 4] y:1\n",
      "t:1 y:1 x:3 h(x):1 dw:0.0\n",
      "t:1 y:1 x:4 h(x):1 dw:0.0\n",
      "[ 1.2  3.2]\n",
      "W:[ 1.2  3.2] X:[2 3] y:0\n",
      "t:1 y:0 x:2 h(x):1 dw:0.2\n",
      "t:1 y:0 x:3 h(x):1 dw:0.2\n",
      "[ 1.4  3.4]\n",
      "W:[ 1.4  3.4] X:[2 2] y:0\n",
      "t:1 y:0 x:2 h(x):1 dw:0.2\n",
      "t:1 y:0 x:2 h(x):1 dw:0.2\n",
      "[ 1.6  3.6]\n",
      "W:[ 1.6  3.6] X:[1 3] y:0\n",
      "t:1 y:0 x:1 h(x):1 dw:0.2\n",
      "t:1 y:0 x:3 h(x):1 dw:0.2\n",
      "[ 1.8  3.8]\n",
      "W:[ 1.8  3.8] X:[0 4] y:0\n",
      "t:1 y:0 x:0 h(x):0 dw:0.0\n",
      "t:1 y:0 x:4 h(x):1 dw:0.2\n",
      "[ 1.8  4. ]\n",
      "W:[ 1.8  4. ] X:[0 4] y:1\n",
      "t:1 y:1 x:0 h(x):0 dw:0.0\n",
      "t:1 y:1 x:4 h(x):1 dw:0.0\n",
      "[ 1.8  4. ]\n",
      "W:[ 1.8  4. ] X:[2 3] y:0\n",
      "t:1 y:0 x:2 h(x):1 dw:0.2\n",
      "t:1 y:0 x:3 h(x):1 dw:0.2\n",
      "[ 2.   4.2]\n",
      "W:[ 2.   4.2] X:[0 2] y:0\n",
      "t:0 y:0 x:0 h(x):0 dw:0.0\n",
      "t:0 y:0 x:2 h(x):1 dw:0.0\n",
      "[ 2.   4.2]\n",
      "W:[ 2.   4.2] X:[2 3] y:1\n",
      "t:1 y:1 x:2 h(x):1 dw:0.0\n",
      "t:1 y:1 x:3 h(x):1 dw:0.0\n",
      "[ 2.   4.2]\n",
      "W:[ 2.   4.2] X:[5 0] y:0\n",
      "t:1 y:0 x:5 h(x):1 dw:0.2\n",
      "t:1 y:0 x:0 h(x):0 dw:0.0\n",
      "[ 2.2  4.2]\n",
      "W:[ 2.2  4.2] X:[2 1] y:0\n",
      "t:0 y:0 x:2 h(x):1 dw:0.0\n",
      "t:0 y:0 x:1 h(x):1 dw:0.0\n",
      "[ 2.2  4.2]\n",
      "W:[ 2.2  4.2] X:[0 2] y:0\n",
      "t:0 y:0 x:0 h(x):0 dw:0.0\n",
      "t:0 y:0 x:2 h(x):1 dw:0.0\n",
      "[ 2.2  4.2]\n",
      "W:[ 2.2  4.2] X:[3 4] y:1\n",
      "t:1 y:1 x:3 h(x):1 dw:0.0\n",
      "t:1 y:1 x:4 h(x):1 dw:0.0\n",
      "[ 2.2  4.2]\n",
      "W:[ 2.2  4.2] X:[2 3] y:1\n",
      "t:1 y:1 x:2 h(x):1 dw:0.0\n",
      "t:1 y:1 x:3 h(x):1 dw:0.0\n",
      "[ 2.2  4.2]\n",
      "W:[ 2.2  4.2] X:[1 1] y:0\n",
      "t:0 y:0 x:1 h(x):1 dw:0.0\n",
      "t:0 y:0 x:1 h(x):1 dw:0.0\n",
      "[ 2.2  4.2]\n",
      "W:[ 2.2  4.2] X:[0 2] y:0\n",
      "t:0 y:0 x:0 h(x):0 dw:0.0\n",
      "t:0 y:0 x:2 h(x):1 dw:0.0\n",
      "[ 2.2  4.2]\n",
      "W:[ 2.2  4.2] X:[0 2] y:0\n",
      "t:0 y:0 x:0 h(x):0 dw:0.0\n",
      "t:0 y:0 x:2 h(x):1 dw:0.0\n",
      "[ 2.2  4.2]\n",
      "W:[ 2.2  4.2] X:[1 3] y:0\n",
      "t:1 y:0 x:1 h(x):1 dw:0.2\n",
      "t:1 y:0 x:3 h(x):1 dw:0.2\n",
      "[ 2.4  4.4]\n",
      "W:[ 2.4  4.4] X:[3 0] y:0\n",
      "t:0 y:0 x:3 h(x):1 dw:0.0\n",
      "t:0 y:0 x:0 h(x):0 dw:0.0\n",
      "[ 2.4  4.4]\n",
      "W:[ 2.4  4.4] X:[3 4] y:1\n",
      "t:1 y:1 x:3 h(x):1 dw:0.0\n",
      "t:1 y:1 x:4 h(x):1 dw:0.0\n",
      "[ 2.4  4.4]\n",
      "W:[ 2.4  4.4] X:[5 0] y:0\n",
      "t:1 y:0 x:5 h(x):1 dw:0.2\n",
      "t:1 y:0 x:0 h(x):0 dw:0.0\n",
      "[ 2.6  4.4]\n",
      "W:[ 2.6  4.4] X:[5 0] y:0\n",
      "t:1 y:0 x:5 h(x):1 dw:0.2\n",
      "t:1 y:0 x:0 h(x):0 dw:0.0\n",
      "[ 2.8  4.4]\n",
      "W:[ 2.8  4.4] X:[3 0] y:0\n",
      "t:0 y:0 x:3 h(x):1 dw:0.0\n",
      "t:0 y:0 x:0 h(x):0 dw:0.0\n",
      "[ 2.8  4.4]\n",
      "W:[ 2.8  4.4] X:[1 1] y:0\n",
      "t:0 y:0 x:1 h(x):1 dw:0.0\n",
      "t:0 y:0 x:1 h(x):1 dw:0.0\n",
      "[ 2.8  4.4]\n",
      "W:[ 2.8  4.4] X:[1 3] y:1\n",
      "t:1 y:1 x:1 h(x):1 dw:0.0\n",
      "t:1 y:1 x:3 h(x):1 dw:0.0\n",
      "[ 2.8  4.4]\n",
      "W:[ 2.8  4.4] X:[1 1] y:0\n",
      "t:0 y:0 x:1 h(x):1 dw:0.0\n",
      "t:0 y:0 x:1 h(x):1 dw:0.0\n",
      "[ 2.8  4.4]\n",
      "W:[ 2.8  4.4] X:[1 3] y:1\n",
      "t:1 y:1 x:1 h(x):1 dw:0.0\n",
      "t:1 y:1 x:3 h(x):1 dw:0.0\n",
      "[ 2.8  4.4]\n"
     ]
    }
   ],
   "source": [
    "W = np.array([1.0, 3.0])\n",
    "b = 16\n",
    "alpha = 0.2\n",
    "train()"
   ]
  },
  {
   "cell_type": "code",
   "execution_count": 238,
   "metadata": {
    "collapsed": false
   },
   "outputs": [
    {
     "name": "stdout",
     "output_type": "stream",
     "text": [
      "Successfully downloaded train-images-idx3-ubyte.gz 9912422 bytes.\n",
      "Extracting /tmp/data/train-images-idx3-ubyte.gz\n",
      "Successfully downloaded train-labels-idx1-ubyte.gz 28881 bytes.\n",
      "Extracting /tmp/data/train-labels-idx1-ubyte.gz\n",
      "Successfully downloaded t10k-images-idx3-ubyte.gz 1648877 bytes.\n",
      "Extracting /tmp/data/t10k-images-idx3-ubyte.gz\n",
      "Successfully downloaded t10k-labels-idx1-ubyte.gz 4542 bytes.\n",
      "Extracting /tmp/data/t10k-labels-idx1-ubyte.gz\n"
     ]
    }
   ],
   "source": [
    "from tensorflow.examples.tutorials.mnist import input_data\n",
    "mnist = input_data.read_data_sets(\"/tmp/data/\", one_hot=True)"
   ]
  },
  {
   "cell_type": "code",
   "execution_count": 241,
   "metadata": {
    "collapsed": true
   },
   "outputs": [],
   "source": [
    "images, labels = mnist.train.next_batch(10)"
   ]
  },
  {
   "cell_type": "code",
   "execution_count": 249,
   "metadata": {
    "collapsed": false
   },
   "outputs": [
    {
     "name": "stdout",
     "output_type": "stream",
     "text": [
      "[ 0.          0.          0.          0.          0.          0.          0.\n",
      "  0.          0.          0.          0.          0.          0.          0.\n",
      "  0.          0.          0.          0.          0.          0.          0.\n",
      "  0.          0.          0.          0.          0.          0.          0.\n",
      "  0.          0.          0.          0.          0.          0.          0.\n",
      "  0.          0.          0.          0.          0.          0.          0.\n",
      "  0.          0.          0.          0.          0.          0.          0.\n",
      "  0.          0.          0.          0.          0.          0.          0.\n",
      "  0.          0.          0.          0.          0.          0.          0.\n",
      "  0.          0.          0.          0.          0.          0.          0.\n",
      "  0.          0.          0.          0.          0.          0.          0.\n",
      "  0.          0.          0.          0.          0.          0.          0.\n",
      "  0.          0.          0.          0.          0.          0.          0.\n",
      "  0.          0.          0.          0.          0.          0.          0.\n",
      "  0.          0.          0.          0.          0.          0.          0.\n",
      "  0.          0.          0.          0.          0.          0.          0.\n",
      "  0.          0.          0.          0.          0.          0.          0.\n",
      "  0.          0.          0.          0.20392159  0.36470589  0.45490199\n",
      "  0.60784316  0.85098046  1.          0.89019614  0.39607847  0.          0.\n",
      "  0.          0.          0.          0.          0.          0.          0.\n",
      "  0.          0.          0.          0.          0.          0.          0.\n",
      "  0.          0.          0.          0.29411766  0.98431379  0.99607849\n",
      "  0.99215692  0.99215692  0.99607849  0.99215692  0.99215692  0.97647065\n",
      "  0.41176474  0.          0.          0.          0.          0.          0.\n",
      "  0.          0.          0.          0.          0.          0.          0.\n",
      "  0.          0.          0.          0.          0.          0.62352943\n",
      "  0.99215692  0.99215692  0.9450981   0.73725492  0.73725492  0.56078434\n",
      "  0.60784316  0.96470594  0.76078439  0.01960784  0.          0.          0.\n",
      "  0.          0.          0.          0.          0.          0.          0.\n",
      "  0.          0.          0.          0.          0.          0.          0.\n",
      "  0.04705883  0.76078439  0.67058825  0.10980393  0.          0.          0.\n",
      "  0.          0.5411765   0.99215692  0.41568631  0.          0.          0.\n",
      "  0.          0.          0.          0.          0.          0.          0.\n",
      "  0.          0.          0.          0.          0.          0.          0.\n",
      "  0.          0.32549021  0.19607845  0.          0.          0.          0.\n",
      "  0.          0.49411768  0.99215692  0.73333335  0.          0.          0.\n",
      "  0.          0.          0.          0.          0.          0.          0.\n",
      "  0.          0.          0.          0.          0.          0.          0.\n",
      "  0.          0.          0.          0.          0.          0.          0.\n",
      "  0.          0.49411768  0.99215692  0.8588236   0.          0.          0.\n",
      "  0.          0.          0.          0.          0.          0.          0.\n",
      "  0.          0.          0.          0.          0.          0.          0.\n",
      "  0.          0.          0.          0.          0.          0.          0.\n",
      "  0.22352943  0.81176478  0.99215692  0.72549021  0.          0.          0.\n",
      "  0.          0.          0.          0.          0.          0.          0.\n",
      "  0.          0.          0.          0.          0.          0.          0.\n",
      "  0.          0.          0.          0.          0.          0.03921569\n",
      "  0.33725491  0.84705889  0.99607849  0.9450981   0.2392157   0.          0.\n",
      "  0.          0.          0.          0.          0.          0.          0.\n",
      "  0.          0.          0.          0.          0.          0.          0.\n",
      "  0.          0.          0.          0.14117648  0.37254903  0.53333336\n",
      "  0.81568635  0.99215692  0.99215692  0.99607849  0.53333336  0.          0.\n",
      "  0.          0.          0.          0.          0.          0.          0.\n",
      "  0.          0.          0.          0.          0.          0.          0.\n",
      "  0.          0.07058824  0.8705883   0.97647065  0.98431379  0.99215692\n",
      "  0.99215692  0.99215692  0.99215692  0.99215692  0.28235295  0.00784314\n",
      "  0.          0.          0.          0.          0.          0.          0.\n",
      "  0.          0.          0.          0.          0.          0.          0.\n",
      "  0.          0.          0.          0.12156864  0.99215692  0.99215692\n",
      "  0.99215692  0.99215692  0.99215692  0.99215692  0.99215692  0.99215692\n",
      "  0.27843139  0.          0.          0.          0.          0.          0.\n",
      "  0.          0.          0.          0.          0.          0.          0.\n",
      "  0.          0.          0.          0.          0.          0.04705883\n",
      "  0.65098041  0.75686282  0.46274513  0.36862746  0.36862746  0.46274513\n",
      "  0.86666673  0.99215692  0.81176478  0.27843139  0.          0.          0.\n",
      "  0.          0.          0.          0.          0.          0.          0.\n",
      "  0.          0.          0.          0.          0.          0.          0.\n",
      "  0.          0.          0.          0.          0.          0.          0.\n",
      "  0.07058824  0.67450982  0.98823535  0.69803923  0.00784314  0.          0.\n",
      "  0.          0.          0.          0.          0.          0.          0.\n",
      "  0.          0.          0.          0.          0.          0.          0.\n",
      "  0.          0.          0.          0.          0.          0.          0.\n",
      "  0.          0.          0.77254909  0.99215692  0.33725491  0.          0.\n",
      "  0.          0.          0.          0.          0.          0.          0.\n",
      "  0.          0.          0.          0.          0.          0.04705883\n",
      "  0.03137255  0.          0.          0.          0.          0.          0.\n",
      "  0.          0.          0.          0.49411768  0.99215692  0.81176478\n",
      "  0.          0.          0.          0.          0.          0.          0.\n",
      "  0.          0.          0.          0.          0.          0.\n",
      "  0.08235294  0.78823537  0.43529415  0.          0.          0.          0.\n",
      "  0.          0.          0.          0.01960784  0.42352945  0.84705889\n",
      "  0.99215692  0.8588236   0.          0.          0.          0.          0.\n",
      "  0.          0.          0.          0.          0.          0.          0.\n",
      "  0.          0.25882354  0.99607849  0.97254908  0.51764709  0.13725491\n",
      "  0.13725491  0.13725491  0.13725491  0.45490199  0.52549022  0.86274517\n",
      "  0.99215692  0.99607849  0.99215692  0.29019609  0.          0.          0.\n",
      "  0.          0.          0.          0.          0.          0.          0.\n",
      "  0.          0.          0.          0.16470589  0.80784321  0.99607849\n",
      "  0.99215692  0.99607849  0.99215692  0.99607849  0.99215692  0.99215692\n",
      "  0.99607849  0.99215692  0.99215692  0.96078438  0.51764709  0.01960784\n",
      "  0.          0.          0.          0.          0.          0.          0.\n",
      "  0.          0.          0.          0.          0.          0.          0.\n",
      "  0.20392159  0.69411767  0.97647065  0.99607849  0.99607849  0.99607849\n",
      "  0.99607849  0.99215692  0.8588236   0.98431379  0.55686277  0.23137257\n",
      "  0.          0.          0.          0.          0.          0.          0.\n",
      "  0.          0.          0.          0.          0.          0.          0.\n",
      "  0.          0.          0.          0.          0.2392157   0.60000002\n",
      "  0.97254908  0.69411767  0.37254903  0.36470589  0.0509804   0.20000002\n",
      "  0.          0.          0.          0.          0.          0.          0.\n",
      "  0.          0.          0.          0.          0.          0.          0.\n",
      "  0.          0.          0.          0.          0.          0.          0.\n",
      "  0.          0.          0.          0.          0.          0.          0.\n",
      "  0.          0.          0.          0.          0.          0.          0.\n",
      "  0.          0.          0.          0.          0.          0.          0.\n",
      "  0.          0.          0.          0.          0.          0.          0.\n",
      "  0.          0.          0.          0.          0.          0.          0.\n",
      "  0.          0.          0.          0.          0.          0.          0.\n",
      "  0.          0.          0.          0.          0.          0.          0.\n",
      "  0.          0.          0.          0.          0.          0.          0.\n",
      "  0.          0.          0.          0.          0.          0.          0.\n",
      "  0.          0.          0.          0.          0.          0.          0.\n",
      "  0.          0.          0.          0.          0.          0.          0.\n",
      "  0.          0.          0.          0.          0.          0.          0.\n",
      "  0.          0.          0.          0.          0.          0.          0.\n",
      "  0.          0.          0.          0.          0.          0.          0.\n",
      "  0.          0.          0.          0.          0.        ]\n",
      "[ 0.  0.  0.  1.  0.  0.  0.  0.  0.  0.]\n"
     ]
    }
   ],
   "source": [
    "print(images[1])\n",
    "print(labels[1])"
   ]
  },
  {
   "cell_type": "code",
   "execution_count": 244,
   "metadata": {
    "collapsed": true
   },
   "outputs": [],
   "source": [
    "import matplotlib.pyplot as plt"
   ]
  },
  {
   "cell_type": "code",
   "execution_count": 266,
   "metadata": {
    "collapsed": false
   },
   "outputs": [
    {
     "name": "stdout",
     "output_type": "stream",
     "text": [
      "3\n"
     ]
    },
    {
     "data": {
      "image/png": "[encoded data removed]",
      "text/plain": [
       "<matplotlib.figure.Figure at 0x7fa50aee8470>"
      ]
     },
     "metadata": {},
     "output_type": "display_data"
    }
   ],
   "source": [
    "fig = plt.figure(figsize=(8,4))\n",
    "plt.title(labels[1])\n",
    "plt.imshow(images[1].reshape((28,28)), vmin=0, vmax=1,\n",
    "           cmap=plt.cm.gray_r, interpolation=\"nearest\")\n",
    "print(np.argmax(labels[1]))"
   ]
  },
  {
   "cell_type": "code",
   "execution_count": 311,
   "metadata": {
    "collapsed": true
   },
   "outputs": [],
   "source": [
    "def train_layer(neurons, data, teacher):\n",
    "    square_error = 0\n",
    "    for i in range(len(neurons)):\n",
    "        square_error += train_perceptron(neurons[i], data, teacher[i])\n",
    "    return square_error"
   ]
  },
  {
   "cell_type": "code",
   "execution_count": 317,
   "metadata": {
    "collapsed": false
   },
   "outputs": [],
   "source": [
    "def train_mnist():\n",
    "    images, labels = mnist.train.next_batch(100)\n",
    "    square_error = 0\n",
    "    for i in range(len(images)):\n",
    "        x = images[i]\n",
    "        t = labels[i]\n",
    "        square_error += train_layer(neurons, x, t)\n",
    "    print(square_error)"
   ]
  },
  {
   "cell_type": "code",
   "execution_count": 445,
   "metadata": {
    "collapsed": false
   },
   "outputs": [
    {
     "name": "stdout",
     "output_type": "stream",
     "text": [
      "700896.0\n"
     ]
    }
   ],
   "source": [
    "neurons = np.random.rand(10, 28*28)\n",
    "b = 0.1\n",
    "alpha = 0.01\n",
    "train_mnist()"
   ]
  },
  {
   "cell_type": "code",
   "execution_count": 446,
   "metadata": {
    "collapsed": false
   },
   "outputs": [
    {
     "name": "stdout",
     "output_type": "stream",
     "text": [
      "278320.0\n"
     ]
    }
   ],
   "source": [
    "train_mnist()"
   ]
  },
  {
   "cell_type": "code",
   "execution_count": 447,
   "metadata": {
    "collapsed": false
   },
   "outputs": [
    {
     "name": "stdout",
     "output_type": "stream",
     "text": [
      "163072.0\n"
     ]
    }
   ],
   "source": [
    "train_mnist()"
   ]
  },
  {
   "cell_type": "code",
   "execution_count": 448,
   "metadata": {
    "collapsed": false
   },
   "outputs": [
    {
     "name": "stdout",
     "output_type": "stream",
     "text": [
      "125440.0\n"
     ]
    }
   ],
   "source": [
    "train_mnist()"
   ]
  },
  {
   "cell_type": "code",
   "execution_count": 449,
   "metadata": {
    "collapsed": false
   },
   "outputs": [
    {
     "name": "stdout",
     "output_type": "stream",
     "text": [
      "101136.0\n"
     ]
    }
   ],
   "source": [
    "train_mnist()"
   ]
  },
  {
   "cell_type": "code",
   "execution_count": 450,
   "metadata": {
    "collapsed": false
   },
   "outputs": [
    {
     "name": "stdout",
     "output_type": "stream",
     "text": [
      "112112.0\n"
     ]
    }
   ],
   "source": [
    "train_mnist()"
   ]
  },
  {
   "cell_type": "code",
   "execution_count": 451,
   "metadata": {
    "collapsed": false
   },
   "outputs": [
    {
     "name": "stdout",
     "output_type": "stream",
     "text": [
      "108192.0\n"
     ]
    }
   ],
   "source": [
    "train_mnist()"
   ]
  },
  {
   "cell_type": "code",
   "execution_count": 452,
   "metadata": {
    "collapsed": false
   },
   "outputs": [
    {
     "name": "stdout",
     "output_type": "stream",
     "text": [
      "89376.0\n"
     ]
    }
   ],
   "source": [
    "train_mnist()"
   ]
  },
  {
   "cell_type": "code",
   "execution_count": 453,
   "metadata": {
    "collapsed": false
   },
   "outputs": [
    {
     "name": "stdout",
     "output_type": "stream",
     "text": [
      "89376.0\n"
     ]
    }
   ],
   "source": [
    "train_mnist()"
   ]
  },
  {
   "cell_type": "code",
   "execution_count": 429,
   "metadata": {
    "collapsed": true
   },
   "outputs": [],
   "source": [
    "def test_mnist():\n",
    "    images, labels = mnist.train.next_batch(1)\n",
    "    x = images[0]\n",
    "    t = labels[0]\n",
    "    print(t)\n",
    "    for i in range(len(neurons)):\n",
    "        answer = output_perceptron(neurons[i], x)\n",
    "        print(str(i) + \" neuron:\" + str(answer))"
   ]
  },
  {
   "cell_type": "code",
   "execution_count": 460,
   "metadata": {
    "collapsed": false
   },
   "outputs": [
    {
     "name": "stdout",
     "output_type": "stream",
     "text": [
      "[ 0.  0.  1.  0.  0.  0.  0.  0.  0.  0.]\n",
      "0 neuron:0\n",
      "1 neuron:0\n",
      "2 neuron:1\n",
      "3 neuron:0\n",
      "4 neuron:0\n",
      "5 neuron:0\n",
      "6 neuron:0\n",
      "7 neuron:0\n",
      "8 neuron:1\n",
      "9 neuron:0\n"
     ]
    }
   ],
   "source": [
    "test_mnist()"
   ]
  },
  {
   "cell_type": "code",
   "execution_count": null,
   "metadata": {
    "collapsed": true
   },
   "outputs": [],
   "source": []
  }
 ],
 "metadata": {
  "kernelspec": {
   "display_name": "Python 3",
   "language": "python",
   "name": "python3"
  },
  "language_info": {
   "codemirror_mode": {
    "name": "ipython",
    "version": 3
   },
   "file_extension": ".py",
   "mimetype": "text/x-python",
   "name": "python",
   "nbconvert_exporter": "python",
   "pygments_lexer": "ipython3",
   "version": "3.5.2"
  }
 },
 "nbformat": 4,
 "nbformat_minor": 1
}
