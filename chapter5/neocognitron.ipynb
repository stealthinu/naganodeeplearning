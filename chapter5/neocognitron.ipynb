{
 "cells": [
  {
   "cell_type": "markdown",
   "metadata": {},
   "source": [
    "## 初期設定的なもの"
   ]
  },
  {
   "cell_type": "code",
   "execution_count": null,
   "metadata": {
    "collapsed": true
   },
   "outputs": [],
   "source": [
    "import numpy as np\n",
    "import matplotlib.pyplot as plt"
   ]
  },
  {
   "cell_type": "code",
   "execution_count": null,
   "metadata": {
    "collapsed": false
   },
   "outputs": [],
   "source": [
    "from tensorflow.examples.tutorials.mnist import input_data\n",
    "mnist = input_data.read_data_sets(\"/tmp/data/\", one_hot=True)"
   ]
  },
  {
   "cell_type": "code",
   "execution_count": null,
   "metadata": {
    "collapsed": true
   },
   "outputs": [],
   "source": [
    "def calc_square_error(O, T):\n",
    "    return np.sum(np.square(O - T))\n",
    "\n",
    "def sigmoid(x):\n",
    "    return 1 / (1 + np.exp(-x))\n",
    "\n",
    "def dsigmoid(y):\n",
    "    return y*(1 - y)\n",
    "\n",
    "def tanh(x):\n",
    "    return np.tanh(x)\n",
    "\n",
    "def dtanh(y):\n",
    "    return 1 - np.square(np.tanh(y))\n",
    "\n",
    "def relu(x):\n",
    "    #return x if x > 0 else 0\n",
    "    return x * (x > 0)\n",
    "\n",
    "def drelu(y):\n",
    "    #return 1 if y > 0 else 0\n",
    "    return 1 * (y > 0)\n",
    "\n",
    "class Layer:\n",
    "    def __init__(self, input_size, output_size):\n",
    "        self.input_size = input_size                           # 入力数\n",
    "        self.output_size = output_size                         # ニューロン数と同じ\n",
    "        self.neurons_W = (np.random.rand(output_size, input_size) - 0.5) * 0.1 # ニューロンごとに入力と同数の足がある分の重み\n",
    "        self.neurons_b = (np.random.rand(output_size) - 0.5) * 0.2             # ニューロンごとのしきい値\n",
    "        self.neurons_d = np.zeros(output_size)                                 # ニューロンごとの誤差修正値\n",
    "    \n",
    "    def h(self, x):\n",
    "        #return sigmoid(x)\n",
    "        return tanh(x)\n",
    "        #return relu(x)\n",
    "    \n",
    "    def dh(self, y):\n",
    "        #return dsigmoid(y)\n",
    "        return dtanh(y)\n",
    "        #return drelu(y)\n",
    "\n",
    "    def output_layer(self, X):\n",
    "        y = np.zeros(self.output_size)\n",
    "        for i in range(self.output_size):\n",
    "            # y = h(sum(W*X) - b)\n",
    "            y[i] = self.h(np.sum(self.neurons_W[i]*X) - self.neurons_b[i])\n",
    "        return y\n",
    "\n",
    "    def train_layer(self, X):\n",
    "        for i in range(self.output_size):\n",
    "            # W = W - (-alpha*d*X)\n",
    "            self.neurons_W[i] -= -alpha*self.neurons_d[i]*X\n",
    "        return\n",
    "    \n",
    "    # 出力層での自分自身の誤差修正値をセット\n",
    "    def backprop_layer_output(self, O, T):\n",
    "        # d = (T - O)*dh(O)\n",
    "        self.neurons_d = (T - O)*self.dh(O)\n",
    "        return\n",
    "\n",
    "    # 前のレイヤーへの誤差修正値を算出\n",
    "    def backprop_layer(self):\n",
    "        total_prev_D = np.zeros(self.input_size)\n",
    "        for i in range(self.output_size):\n",
    "            #total_prev_D += W*d\n",
    "            total_prev_D += self.neurons_W[i]*self.neurons_d[i]\n",
    "        return total_prev_D\n",
    "\n",
    "    # 後のレイヤーで計算された誤差修正値に出力値を掛けて自レイヤーに値をセット\n",
    "    def set_layer_d(self, D, O):\n",
    "        # d = D*dh(O)\n",
    "        self.neurons_d = D*self.dh(O)\n"
   ]
  },
  {
   "cell_type": "code",
   "execution_count": null,
   "metadata": {
    "collapsed": true
   },
   "outputs": [],
   "source": [
    "def smaller(image):\n",
    "    def seri(x, y):\n",
    "        return y*28 + x\n",
    "\n",
    "    simages = np.zeros(14*14)\n",
    "    for i in range(14):\n",
    "        for j in range(14):\n",
    "            x, y = j*2, i*2\n",
    "            avg = (image[seri(x+0, y+0)] + image[seri(x+0, y+1)] + image[seri(x+1, y+0)] + image[seri(x+1, y+1)])/4.0\n",
    "            simages[i*14 + j] = avg\n",
    "    return simages"
   ]
  },
  {
   "cell_type": "code",
   "execution_count": null,
   "metadata": {
    "collapsed": false
   },
   "outputs": [],
   "source": [
    "plt.figure(figsize=(20,10))"
   ]
  },
  {
   "cell_type": "code",
   "execution_count": null,
   "metadata": {
    "collapsed": true
   },
   "outputs": [],
   "source": [
    "def plotImage(image, w, h, i):\n",
    "    plt.subplot(w, h, i + 1)\n",
    "    plt.tick_params(axis='x', which='both', bottom='off', top='off', labelbottom='off')\n",
    "    plt.tick_params(axis='y', which='both', left='off', right='off', labelleft='off')\n",
    "    plt.imshow(image, vmin=0, vmax=1, cmap=plt.cm.gray_r, interpolation=\"nearest\")\n"
   ]
  },
  {
   "cell_type": "markdown",
   "metadata": {},
   "source": [
    "## numpyで配列の範囲の扱い"
   ]
  },
  {
   "cell_type": "code",
   "execution_count": null,
   "metadata": {
    "collapsed": true
   },
   "outputs": [],
   "source": [
    "test1 = np.array([[11, 12, 13, 14], [21, 22, 23, 24], [31, 32, 33, 34]])"
   ]
  },
  {
   "cell_type": "code",
   "execution_count": null,
   "metadata": {
    "collapsed": false
   },
   "outputs": [],
   "source": [
    "test1[1:3, 0:2]"
   ]
  },
  {
   "cell_type": "code",
   "execution_count": null,
   "metadata": {
    "collapsed": false
   },
   "outputs": [],
   "source": [
    "test2 = test1[1:3, 0:2]"
   ]
  },
  {
   "cell_type": "code",
   "execution_count": null,
   "metadata": {
    "collapsed": true
   },
   "outputs": [],
   "source": [
    "test2[:] = test2 * 2"
   ]
  },
  {
   "cell_type": "code",
   "execution_count": null,
   "metadata": {
    "collapsed": false
   },
   "outputs": [],
   "source": [
    "test1"
   ]
  },
  {
   "cell_type": "code",
   "execution_count": null,
   "metadata": {
    "collapsed": false
   },
   "outputs": [],
   "source": [
    "np.pad(test1, [(2, 2), (2, 2)], 'constant')"
   ]
  },
  {
   "cell_type": "code",
   "execution_count": null,
   "metadata": {
    "collapsed": false
   },
   "outputs": [],
   "source": [
    "test1.shape"
   ]
  },
  {
   "cell_type": "code",
   "execution_count": null,
   "metadata": {
    "collapsed": false
   },
   "outputs": [],
   "source": [
    "test1.reshape(3, 4, 1)"
   ]
  },
  {
   "cell_type": "code",
   "execution_count": null,
   "metadata": {
    "collapsed": false
   },
   "outputs": [],
   "source": [
    "test1.reshape(-1)"
   ]
  },
  {
   "cell_type": "code",
   "execution_count": null,
   "metadata": {
    "collapsed": false
   },
   "outputs": [],
   "source": [
    "test1.reshape(-1).reshape(2, 3, 2)"
   ]
  },
  {
   "cell_type": "code",
   "execution_count": null,
   "metadata": {
    "collapsed": false
   },
   "outputs": [],
   "source": [
    "test1"
   ]
  },
  {
   "cell_type": "code",
   "execution_count": null,
   "metadata": {
    "collapsed": false
   },
   "outputs": [],
   "source": [
    "test1.max()"
   ]
  },
  {
   "cell_type": "code",
   "execution_count": null,
   "metadata": {
    "collapsed": false
   },
   "outputs": [],
   "source": [
    "test1.max(axis=1)"
   ]
  },
  {
   "cell_type": "code",
   "execution_count": null,
   "metadata": {
    "collapsed": true
   },
   "outputs": [],
   "source": [
    "test3 = test1.reshape(-1).reshape(2, 3, 2)"
   ]
  },
  {
   "cell_type": "code",
   "execution_count": null,
   "metadata": {
    "collapsed": false
   },
   "outputs": [],
   "source": [
    "test3"
   ]
  },
  {
   "cell_type": "code",
   "execution_count": null,
   "metadata": {
    "collapsed": false
   },
   "outputs": [],
   "source": [
    "test3.max(axis=2)"
   ]
  },
  {
   "cell_type": "code",
   "execution_count": null,
   "metadata": {
    "collapsed": true
   },
   "outputs": [],
   "source": [
    "test4 = np.array([[[\"R11\", \"G11\", \"B11\"], [\"R12\", \"G12\", \"B12\"], [\"R13\", \"G13\", \"B13\"], [\"R14\", \"G14\", \"B14\"]],\n",
    "                  [[\"R21\", \"G21\", \"B11\"], [\"R22\", \"G22\", \"B12\"], [\"R23\", \"G23\", \"B23\"], [\"R24\", \"G23\", \"B24\"]]])"
   ]
  },
  {
   "cell_type": "code",
   "execution_count": null,
   "metadata": {
    "collapsed": false
   },
   "outputs": [],
   "source": [
    "test4"
   ]
  },
  {
   "cell_type": "code",
   "execution_count": null,
   "metadata": {
    "collapsed": false
   },
   "outputs": [],
   "source": [
    "test4.shape"
   ]
  },
  {
   "cell_type": "code",
   "execution_count": null,
   "metadata": {
    "collapsed": false
   },
   "outputs": [],
   "source": [
    "(h, w, d) = test4.shape"
   ]
  },
  {
   "cell_type": "code",
   "execution_count": null,
   "metadata": {
    "collapsed": false
   },
   "outputs": [],
   "source": [
    "test4.transpose((2, 0, 1))"
   ]
  },
  {
   "cell_type": "code",
   "execution_count": null,
   "metadata": {
    "collapsed": false
   },
   "outputs": [],
   "source": [
    "test4.transpose((2, 0, 1)).shape"
   ]
  },
  {
   "cell_type": "markdown",
   "metadata": {},
   "source": [
    "## convolutionとpoolingの順方向実装"
   ]
  },
  {
   "cell_type": "code",
   "execution_count": null,
   "metadata": {
    "collapsed": false
   },
   "outputs": [],
   "source": [
    "def conv(layer, X):\n",
    "    (height, width, depth) = X.shape # 入力は3次元配列を想定\n",
    "    conv_out = np.zeros((height, width, 20))  # 縦14 x 横14 x 種20 の出力結果用\n",
    "    conv_size = 3 # convolution 3x3 の入力の畳み込み層を使う\n",
    "    conv_min = -1\n",
    "    conv_max = 1\n",
    "    pad = 2\n",
    "    Xpad = np.pad(X, [(pad, pad), (pad, pad), (0, 0)], 'constant') # 上下左右2つづつpaddingする\n",
    "    for y in range(height):\n",
    "        for x in range(width):\n",
    "            window = Xpad[y+conv_min+pad : y+conv_max+pad+1,\n",
    "                          x+conv_min+pad : x+conv_max+pad+1] # 3x3の窓を切り出す\n",
    "            conv_out[y, x] = layer.output_layer(window.reshape(-1)) # 窓は2次元配列なので1次元化してニューロンに渡す\n",
    "            #print(\"y:\" + str(y) + \" x:\" + str(x) + \" data:\" + str(window))\n",
    "            #plotInput(inp[y:y+ch, x:x+cw], w, h, x, y)\n",
    "    return conv_out"
   ]
  },
  {
   "cell_type": "code",
   "execution_count": null,
   "metadata": {
    "collapsed": false
   },
   "outputs": [],
   "source": [
    "layer1 = Layer(3*3, 20) # 3x3の入力で20種類まで判定出来るたたみこみ層\n",
    "layer1.neurons_W = (np.random.rand(layer1.output_size, layer1.input_size) - 0.5) * 1.0 # わかりやすくするため重み初期値を大きくする\n",
    "\n",
    "alpha = 0.1\n",
    "fig = plt.figure(figsize=(8, 6))\n",
    "\n",
    "def test_convolution(train_count):\n",
    "    images, labels = mnist.train.next_batch(train_count)\n",
    "    square_error = 0.0\n",
    "    for i in range(len(images)):\n",
    "        X = smaller(images[i]).reshape(14, 14, 1) # 3次元配列で入力\n",
    "        C = conv(layer1, X)\n",
    "\n",
    "        #print(\"conv:\\n\" + str(C))\n",
    "        plt.subplot(3, 5, 1)\n",
    "        plt.tick_params(axis='x', which='both', bottom='off', top='off', labelbottom='off')\n",
    "        plt.tick_params(axis='y', which='both', left='off', right='off', labelleft='off')\n",
    "        plt.imshow(X.reshape(14, 14), vmin=0, vmax=1, cmap=plt.cm.gray_r, interpolation=\"nearest\")\n",
    "        images = C.transpose((2, 0, 1)) # 出力を特徴抽出ニューロン毎に取り出せるように配列順番を入れ替える\n",
    "        for j in range(5):\n",
    "            image = images[j]\n",
    "            plt.subplot(3, 5, j + 5 + 1)\n",
    "            plt.tick_params(axis='x', which='both', bottom='off', top='off', labelbottom='off')\n",
    "            plt.tick_params(axis='y', which='both', left='off', right='off', labelleft='off')\n",
    "            plt.imshow(image, vmin=0, vmax=1, cmap=plt.cm.gray_r, interpolation=\"nearest\")"
   ]
  },
  {
   "cell_type": "code",
   "execution_count": null,
   "metadata": {
    "collapsed": false
   },
   "outputs": [],
   "source": [
    "test_convolution(1)"
   ]
  },
  {
   "cell_type": "code",
   "execution_count": null,
   "metadata": {
    "collapsed": true
   },
   "outputs": [],
   "source": [
    "def pooling(conv_out):\n",
    "    (conv_out_h, conv_out_w, conv_out_z) = conv_out.shape\n",
    "    # pooling 2x2 の範囲で最大のものを抽出\n",
    "    (pw, ph) = 2, 2\n",
    "    pooling_out = np.zeros((conv_out_h // ph, conv_out_w // pw, conv_out_z))  # 縦6 x 横6 x 種20 の出力結果用\n",
    "    for z in range(conv_out_z):\n",
    "        for y in range(0, conv_out_h, ph):\n",
    "            for x in range(0, conv_out_w, pw):\n",
    "                window = conv_out[y:y+ph, x:x+pw, z]\n",
    "                value = window.max()\n",
    "                index = window.argmax()\n",
    "                pooling_out[y // ph, x // pw, z] = value # そのpoolingで最大のものを詰める\n",
    "                #print(\"y:\" + str(max_y) + \" x:\" + str(max_x) + \" z:\" + str(z) + \" value:\" + str(value))\n",
    "    return pooling_out"
   ]
  },
  {
   "cell_type": "code",
   "execution_count": null,
   "metadata": {
    "collapsed": false
   },
   "outputs": [],
   "source": [
    "def test_pooling(train_count):\n",
    "    images, labels = mnist.train.next_batch(train_count)\n",
    "    square_error = 0.0\n",
    "    for i in range(len(images)):\n",
    "        X = smaller(images[i]).reshape(14, 14, 1)\n",
    "        C = conv(layer1, X)\n",
    "        P = pooling(C)\n",
    "\n",
    "        #print(\"conv:\\n\" + str(C))\n",
    "        #print(\"pooling:\\n\" + str(P))\n",
    "        plt.subplot(3, 5, 1)\n",
    "        plt.tick_params(axis='x', which='both', bottom='off', top='off', labelbottom='off')\n",
    "        plt.tick_params(axis='y', which='both', left='off', right='off', labelleft='off')\n",
    "        plt.imshow(X.reshape(14, 14), vmin=0, vmax=1, cmap=plt.cm.gray_r, interpolation=\"nearest\")\n",
    "        images = C.transpose((2, 0, 1))\n",
    "        for j in range(5):\n",
    "            image = images[j]\n",
    "            plt.subplot(3, 5, j + 5 + 1)\n",
    "            plt.tick_params(axis='x', which='both', bottom='off', top='off', labelbottom='off')\n",
    "            plt.tick_params(axis='y', which='both', left='off', right='off', labelleft='off')\n",
    "            plt.imshow(image, vmin=0, vmax=1, cmap=plt.cm.gray_r, interpolation=\"nearest\")\n",
    "        images = P.transpose((2, 0, 1))\n",
    "        for j in range(5):\n",
    "            image = images[j]\n",
    "            plt.subplot(3, 5, j + 10 + 1)\n",
    "            plt.tick_params(axis='x', which='both', bottom='off', top='off', labelbottom='off')\n",
    "            plt.tick_params(axis='y', which='both', left='off', right='off', labelleft='off')\n",
    "            plt.imshow(image, vmin=0, vmax=1, cmap=plt.cm.gray_r, interpolation=\"nearest\")\n"
   ]
  },
  {
   "cell_type": "code",
   "execution_count": null,
   "metadata": {
    "collapsed": false,
    "scrolled": false
   },
   "outputs": [],
   "source": [
    "test_pooling(1)"
   ]
  },
  {
   "cell_type": "markdown",
   "metadata": {},
   "source": [
    "## 学習の実装"
   ]
  },
  {
   "cell_type": "code",
   "execution_count": 162,
   "metadata": {
    "collapsed": true
   },
   "outputs": [],
   "source": [
    "class Clayer:\n",
    "    def __init__(self, width, height, depth, output_depth):\n",
    "        (self.width, self.height, self.depth) = width, height, depth\n",
    "        self.output_depth = output_depth\n",
    "        self.conv_size = 3 # convolution 3x3 の入力の畳み込み層を使う\n",
    "        self.conv_min = -1\n",
    "        self.conv_max = 1\n",
    "        self.pad = 2\n",
    "        self.conv_layer = Layer(self.conv_size**2*self.depth, self.output_depth) # 3x3xdepthの入力で20種類まで判定出来るたたみこみ層\n",
    "        self.Xyx = np.zeros((self.height, self.width, self.conv_size**2*self.depth)) # x,y毎のconv_layerへの入力値を保持\n",
    "        self.Oyx = np.zeros((self.height, self.width, self.output_depth)) # x,y毎のconv_layerからの出力値を保持\n",
    "        self.backprop_Dyx = np.zeros((self.height, self.width, self.output_depth)) # 後ろのレイヤーから渡ってきた誤差を入れる\n",
    "        self.Dyx = np.zeros((self.height, self.width, self.depth)) # 前のレイヤーに渡す誤差を積算する入れ物\n",
    "\n",
    "    def output_layer(self, X):\n",
    "        Xpad = np.pad(X, [(self.pad, self.pad), (self.pad, self.pad), (0, 0)], 'constant') # 上下左右2つづつpaddingする\n",
    "        for y in range(self.height):\n",
    "            for x in range(self.width):\n",
    "                window = Xpad[y+self.conv_min+self.pad : y+self.conv_max+self.pad+1,\n",
    "                              x+self.conv_min+self.pad : x+self.conv_max+self.pad+1] # 3x3の窓を切り出す\n",
    "                self.Xyx[y, x] = window.reshape(-1) # 窓は3次元配列なので1次元化してニューロンに渡す\n",
    "                self.Oyx[y, x] = self.conv_layer.output_layer(self.Xyx[y, x])\n",
    "        return self.Oyx\n",
    "\n",
    "    # 後のレイヤーで計算された誤差修正値をセット\n",
    "    def set_layer_d(self, D):\n",
    "        self.backprop_Dyx = D # 後ろのレイヤーから渡ってきた誤差\n",
    "\n",
    "    # 前のレイヤーへの誤差修正値を算出\n",
    "    def backprop_layer(self):\n",
    "        Dyx_pad = np.zeros((self.height+self.pad*2, self.width+self.pad*2, self.depth)) # 上下左右2つづつpaddingしたサイズ\n",
    "        for y in range(self.height):\n",
    "            for x in range(self.width):\n",
    "                # x, yの場所にわたってきた誤差と出力から入力毎の誤差を計算して埋める\n",
    "                self.conv_layer.set_layer_d(self.backprop_Dyx[y, x], self.Oyx[y, x])\n",
    "                D = self.conv_layer.backprop_layer()\n",
    "                window = Dyx_pad[y+self.conv_min+self.pad : y+self.conv_max+self.pad+1,\n",
    "                                 x+self.conv_min+self.pad : x+self.conv_max+self.pad+1] # 誤差を埋め込むための3x3の窓を切り出す\n",
    "                window[:] += D.reshape(self.conv_size, self.conv_size, self.depth) # 入力毎の誤差として積算する\n",
    "        self.Dyx = Dyx_pad[self.pad:self.height+self.pad, self.pad:self.width+self.pad] # padding削除した範囲を取得\n",
    "        return self.Dyx\n",
    "\n",
    "    def train_layer(self):\n",
    "        for y in range(self.height):\n",
    "            for x in range(self.width):\n",
    "                self.conv_layer.set_layer_d(self.backprop_Dyx[y, x], self.Oyx[y, x])\n",
    "                self.conv_layer.train_layer(self.Xyx[y, x])\n",
    "        return"
   ]
  },
  {
   "cell_type": "code",
   "execution_count": 141,
   "metadata": {
    "collapsed": false
   },
   "outputs": [],
   "source": [
    "layer1 = Clayer(14, 14, 1, 20)\n",
    "layer2 = Layer(14*14*20, 10)\n",
    "\n",
    "alpha = 0.02\n",
    "\n",
    "def train_convolution(train_count):\n",
    "    images, labels = mnist.train.next_batch(train_count)\n",
    "    square_error = 0.0\n",
    "    for i in range(len(images)):\n",
    "        T = labels[i]\n",
    "        X = smaller(images[i]).reshape(14, 14, 1) # 3次元配列で入力\n",
    "        C = layer1.output_layer(X)\n",
    "        Y = layer2.output_layer(C.reshape(-1))\n",
    "        layer2.backprop_layer_output(Y, T)\n",
    "        D1 = layer2.backprop_layer().reshape(14, 14, 20)\n",
    "        layer1.set_layer_d(D1)\n",
    "        #D0 = layer1.backprop_layer()\n",
    "        layer2.train_layer(C.reshape(-1))\n",
    "        layer1.train_layer()\n",
    "        square_error += calc_square_error(Y, T)\n",
    "    print(square_error/train_count/20) # 1ニューロンあたりの誤差"
   ]
  },
  {
   "cell_type": "code",
   "execution_count": null,
   "metadata": {
    "collapsed": false
   },
   "outputs": [],
   "source": [
    "fig = plt.figure(figsize=(8, 6))\n",
    "\n",
    "def test_convolution():\n",
    "    images, labels = mnist.train.next_batch(1)\n",
    "    square_error = 0.0\n",
    "    T = labels[0]\n",
    "    X = smaller(images[0]).reshape(14, 14, 1) # 3次元配列で入力\n",
    "    C = layer1.output_layer(X)\n",
    "    Y = layer2.output_layer(C.reshape(-1))\n",
    "\n",
    "    print(\"T:\" + str(T) + \" Y:\" + str(Y))\n",
    "    plotImage(X.reshape(14, 14), 5, 5, 0)\n",
    "    images = C.transpose((2, 0, 1)) # 出力を特徴抽出ニューロン毎に取り出せるように配列順番を入れ替える\n",
    "    for j in range(20):\n",
    "        plotImage(images[j]+0.5, 5, 5, j + 5)\n",
    "\n",
    "def disp_convolution_W():\n",
    "    for i in range(20):\n",
    "        plotImage(layer1.conv_layer.neurons_W[i].reshape(3, 3)+0.5, 4, 5, i)\n",
    "   "
   ]
  },
  {
   "cell_type": "code",
   "execution_count": 171,
   "metadata": {
    "collapsed": false
   },
   "outputs": [
    {
     "name": "stdout",
     "output_type": "stream",
     "text": [
      "0.0306939624968\n"
     ]
    }
   ],
   "source": [
    "train_convolution(100)"
   ]
  },
  {
   "cell_type": "code",
   "execution_count": 167,
   "metadata": {
    "collapsed": false
   },
   "outputs": [],
   "source": [
    "alpha = 0.005"
   ]
  },
  {
   "cell_type": "code",
   "execution_count": null,
   "metadata": {
    "collapsed": false
   },
   "outputs": [],
   "source": [
    "disp_convolution_W()"
   ]
  },
  {
   "cell_type": "code",
   "execution_count": 163,
   "metadata": {
    "collapsed": true
   },
   "outputs": [],
   "source": [
    "layer1 = Clayer(14, 14, 1, 20)\n",
    "layer2 = Clayer(14, 14, 20, 20)\n",
    "layer3 = Layer(14*14*20, 10)\n",
    "\n",
    "alpha = 0.02\n",
    "\n",
    "def train_convolution(train_count):\n",
    "    images, labels = mnist.train.next_batch(train_count)\n",
    "    square_error = 0.0\n",
    "    for i in range(len(images)):\n",
    "        T = labels[i]\n",
    "        X = smaller(images[i]).reshape(14, 14, 1) # 3次元配列で入力\n",
    "        C1 = layer1.output_layer(X)\n",
    "        C2 = layer2.output_layer(C1)\n",
    "        Y = layer3.output_layer(C2.reshape(-1))\n",
    "        layer3.backprop_layer_output(Y, T)\n",
    "        D2 = layer3.backprop_layer().reshape(14, 14, 20)\n",
    "        layer2.set_layer_d(D2)\n",
    "        D1 = layer2.backprop_layer()\n",
    "        layer1.set_layer_d(D1)\n",
    "        layer3.train_layer(C2.reshape(-1))\n",
    "        layer2.train_layer()\n",
    "        layer1.train_layer()\n",
    "        square_error += calc_square_error(Y, T)\n",
    "    print(square_error/train_count/20) # 1ニューロンあたりの誤差"
   ]
  },
  {
   "cell_type": "code",
   "execution_count": 173,
   "metadata": {
    "collapsed": false
   },
   "outputs": [
    {
     "name": "stdout",
     "output_type": "stream",
     "text": [
      "0.0283345980365\n"
     ]
    }
   ],
   "source": [
    "train_convolution(100)"
   ]
  },
  {
   "cell_type": "code",
   "execution_count": null,
   "metadata": {
    "collapsed": true
   },
   "outputs": [],
   "source": [
    "alpha = 0.005"
   ]
  },
  {
   "cell_type": "code",
   "execution_count": 176,
   "metadata": {
    "collapsed": false
   },
   "outputs": [
    {
     "data": {
      "text/plain": [
       "<matplotlib.figure.Figure at 0x7f0cfb2a7dd8>"
      ]
     },
     "metadata": {},
     "output_type": "display_data"
    }
   ],
   "source": [
    "fig = plt.figure(figsize=(8, 6))\n",
    "\n",
    "def test_convolution():\n",
    "    images, labels = mnist.train.next_batch(1)\n",
    "    square_error = 0.0\n",
    "    T = labels[0]\n",
    "    X = smaller(images[0]).reshape(14, 14, 1) # 3次元配列で入力\n",
    "    C1 = layer1.output_layer(X)\n",
    "    C2 = layer2.output_layer(C1)\n",
    "    Y = layer3.output_layer(C2.reshape(-1))\n",
    "\n",
    "    print(\"T:\" + str(T) + \" Y:\" + str(Y))\n",
    "    plotImage(X.reshape(14, 14), 9, 5, 0)\n",
    "    images = C1.transpose((2, 0, 1)) # 出力を特徴抽出ニューロン毎に取り出せるように配列順番を入れ替える\n",
    "    for i in range(20):\n",
    "        plotImage(images[i]+0.5, 9, 5, i + 5)\n",
    "    images = C2.transpose((2, 0, 1)) # 出力を特徴抽出ニューロン毎に取り出せるように配列順番を入れ替える\n",
    "    for i in range(20):\n",
    "        plotImage(images[i]+0.5, 9, 5, i + 5 + 20)\n",
    "\n",
    "def disp_convolution_W():\n",
    "    for i in range(20):\n",
    "        plotImage(layer1.conv_layer.neurons_W[i].reshape(3, 3)+0.5, 4, 5, i)\n",
    "  "
   ]
  },
  {
   "cell_type": "code",
   "execution_count": 179,
   "metadata": {
    "collapsed": false
   },
   "outputs": [
    {
     "name": "stdout",
     "output_type": "stream",
     "text": [
      "T:[ 0.  0.  1.  0.  0.  0.  0.  0.  0.  0.] Y:[-0.1193301   0.17383922  0.52143895  0.04758421  0.20995478 -0.13245328\n",
      "  0.06140433 -0.09015031  0.15566644  0.00264202]\n"
     ]
    },
    {
     "data": {
      "image/png": "[encoded data removed]",
      "text/plain": [
       "<matplotlib.figure.Figure at 0x7f0cfb358160>"
      ]
     },
     "metadata": {},
     "output_type": "display_data"
    }
   ],
   "source": [
    "test_convolution()"
   ]
  },
  {
   "cell_type": "code",
   "execution_count": 180,
   "metadata": {
    "collapsed": false
   },
   "outputs": [
    {
     "data": {
      "image/png": "[encoded data removed]",
      "text/plain": [
       "<matplotlib.figure.Figure at 0x7f0cfb710278>"
      ]
     },
     "metadata": {},
     "output_type": "display_data"
    }
   ],
   "source": [
    "disp_convolution_W()"
   ]
  },
  {
   "cell_type": "code",
   "execution_count": null,
   "metadata": {
    "collapsed": true
   },
   "outputs": [],
   "source": []
  }
 ],
 "metadata": {
  "kernelspec": {
   "display_name": "Python 3",
   "language": "python",
   "name": "python3"
  },
  "language_info": {
   "codemirror_mode": {
    "name": "ipython",
    "version": 3
   },
   "file_extension": ".py",
   "mimetype": "text/x-python",
   "name": "python",
   "nbconvert_exporter": "python",
   "pygments_lexer": "ipython3",
   "version": "3.5.2"
  }
 },
 "nbformat": 4,
 "nbformat_minor": 2
}
