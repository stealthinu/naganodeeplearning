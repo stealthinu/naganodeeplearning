{
 "cells": [
  {
   "cell_type": "markdown",
   "metadata": {},
   "source": [
    "## 初期設定的なもの"
   ]
  },
  {
   "cell_type": "code",
   "execution_count": 1,
   "metadata": {
    "collapsed": true
   },
   "outputs": [],
   "source": [
    "import numpy as np\n",
    "import matplotlib.pyplot as plt"
   ]
  },
  {
   "cell_type": "code",
   "execution_count": 2,
   "metadata": {
    "collapsed": false
   },
   "outputs": [
    {
     "name": "stdout",
     "output_type": "stream",
     "text": [
      "Extracting /tmp/data/train-images-idx3-ubyte.gz\n",
      "Extracting /tmp/data/train-labels-idx1-ubyte.gz\n",
      "Extracting /tmp/data/t10k-images-idx3-ubyte.gz\n",
      "Extracting /tmp/data/t10k-labels-idx1-ubyte.gz\n"
     ]
    }
   ],
   "source": [
    "from tensorflow.examples.tutorials.mnist import input_data\n",
    "mnist = input_data.read_data_sets(\"/tmp/data/\", one_hot=True)"
   ]
  },
  {
   "cell_type": "code",
   "execution_count": 3,
   "metadata": {
    "collapsed": true
   },
   "outputs": [],
   "source": [
    "def sigmoid(x):\n",
    "    return 1 / (1 + np.exp(-x))\n",
    "\n",
    "def dsigmoid(x):\n",
    "    return x*(1 - x)\n",
    "\n",
    "class Layer:\n",
    "    def __init__(self, input_size, output_size):\n",
    "        self.input_size = input_size                           # 入力数\n",
    "        self.output_size = output_size                         # ニューロン数と同じ\n",
    "        self.neurons_W = (np.random.rand(output_size, input_size) - 0.5) * 0.1 # ニューロンごとに入力と同数の足がある分の重み\n",
    "        self.neurons_b = (np.random.rand(output_size) - 0.5) * 0.2             # ニューロンごとのしきい値\n",
    "        self.neurons_d = np.zeros(output_size)                                 # ニューロンごとの誤差修正値\n",
    "    \n",
    "    def h(self, x):\n",
    "        return sigmoid(x)\n",
    "        #return tanh(x)\n",
    "        #return relu(x)\n",
    "    \n",
    "    def dh(self, y):\n",
    "        return dsigmoid(y)\n",
    "        #return dtanh(y)\n",
    "        #return drelu(y)\n",
    "\n",
    "    def output_layer(self, X):\n",
    "        y = np.zeros(self.output_size)\n",
    "        for i in range(self.output_size):\n",
    "            # y = h(sum(W*X) - b)\n",
    "            y[i] = self.h(np.sum(self.neurons_W[i]*X) - self.neurons_b[i])\n",
    "        return y\n",
    "\n",
    "    def train_layer(self, X):\n",
    "        for i in range(self.output_size):\n",
    "            # W = W - (-alpha*d*X)\n",
    "            self.neurons_W[i] -= -alpha*self.neurons_d[i]*X\n",
    "        return\n",
    "    \n",
    "    # 出力層での自分自身の誤差修正値をセット\n",
    "    def backprop_layer_output(self, O, T):\n",
    "        # d = (T - O)*dh(O)\n",
    "        self.neurons_d = (T - O)*self.dh(O)\n",
    "        return\n",
    "\n",
    "    # 前のレイヤーへの誤差修正値を算出\n",
    "    def backprop_layer(self):\n",
    "        total_prev_D = np.zeros(self.input_size)\n",
    "        for i in range(self.output_size):\n",
    "            #total_prev_D += W*d\n",
    "            total_prev_D += self.neurons_W[i]*self.neurons_d[i]\n",
    "        return total_prev_D\n",
    "\n",
    "    # 後のレイヤーで計算された誤差修正値に出力値を掛けて自レイヤーに値をセット\n",
    "    def set_layer_d(self, D, O):\n",
    "        # d = D*dh(O)\n",
    "        self.neurons_d = D*self.dh(O)\n"
   ]
  },
  {
   "cell_type": "code",
   "execution_count": 4,
   "metadata": {
    "collapsed": true
   },
   "outputs": [],
   "source": [
    "def smaller(image):\n",
    "    def seri(x, y):\n",
    "        return y*28 + x\n",
    "\n",
    "    simages = np.zeros(14*14)\n",
    "    for i in range(14):\n",
    "        for j in range(14):\n",
    "            x, y = j*2, i*2\n",
    "            avg = (image[seri(x+0, y+0)] + image[seri(x+0, y+1)] + image[seri(x+1, y+0)] + image[seri(x+1, y+1)])/4.0\n",
    "            simages[i*14 + j] = avg\n",
    "    return simages"
   ]
  },
  {
   "cell_type": "code",
   "execution_count": 5,
   "metadata": {
    "collapsed": false
   },
   "outputs": [
    {
     "data": {
      "text/plain": [
       "<matplotlib.figure.Figure at 0x7f0f0586b588>"
      ]
     },
     "execution_count": 5,
     "metadata": {},
     "output_type": "execute_result"
    },
    {
     "data": {
      "text/plain": [
       "<matplotlib.figure.Figure at 0x7f0f0586b588>"
      ]
     },
     "metadata": {},
     "output_type": "display_data"
    }
   ],
   "source": [
    "plt.figure(figsize=(20,10))"
   ]
  },
  {
   "cell_type": "code",
   "execution_count": 6,
   "metadata": {
    "collapsed": true
   },
   "outputs": [],
   "source": [
    "def plotInput(image, w, h, x, y):\n",
    "    plt.subplot(w, h, y*w + x + 1)\n",
    "    plt.tick_params(axis='x', which='both', bottom='off', top='off', labelbottom='off')\n",
    "    plt.tick_params(axis='y', which='both', left='off', right='off', labelleft='off')\n",
    "    plt.imshow(image, vmin=0, vmax=1, cmap=plt.cm.gray_r, interpolation=\"nearest\")\n"
   ]
  },
  {
   "cell_type": "markdown",
   "metadata": {},
   "source": [
    "## numpyで配列の範囲の扱い"
   ]
  },
  {
   "cell_type": "code",
   "execution_count": 19,
   "metadata": {
    "collapsed": true
   },
   "outputs": [],
   "source": [
    "test1 = np.array([[11, 12, 13, 14], [21, 22, 23, 24], [31, 32, 33, 34]])"
   ]
  },
  {
   "cell_type": "code",
   "execution_count": null,
   "metadata": {
    "collapsed": false
   },
   "outputs": [],
   "source": [
    "test1[1:3, 0:2]"
   ]
  },
  {
   "cell_type": "code",
   "execution_count": null,
   "metadata": {
    "collapsed": false
   },
   "outputs": [],
   "source": [
    "test2 = test1[1:3, 0:2]"
   ]
  },
  {
   "cell_type": "code",
   "execution_count": null,
   "metadata": {
    "collapsed": true
   },
   "outputs": [],
   "source": [
    "test2[:] = test2 * 2"
   ]
  },
  {
   "cell_type": "code",
   "execution_count": 20,
   "metadata": {
    "collapsed": false
   },
   "outputs": [
    {
     "data": {
      "text/plain": [
       "array([[11, 12, 13, 14],\n",
       "       [21, 22, 23, 24],\n",
       "       [31, 32, 33, 34]])"
      ]
     },
     "execution_count": 20,
     "metadata": {},
     "output_type": "execute_result"
    }
   ],
   "source": [
    "test1"
   ]
  },
  {
   "cell_type": "code",
   "execution_count": 21,
   "metadata": {
    "collapsed": false
   },
   "outputs": [
    {
     "data": {
      "text/plain": [
       "(3, 4)"
      ]
     },
     "execution_count": 21,
     "metadata": {},
     "output_type": "execute_result"
    }
   ],
   "source": [
    "test1.shape"
   ]
  },
  {
   "cell_type": "code",
   "execution_count": 22,
   "metadata": {
    "collapsed": false
   },
   "outputs": [
    {
     "data": {
      "text/plain": [
       "array([[[11],\n",
       "        [12],\n",
       "        [13],\n",
       "        [14]],\n",
       "\n",
       "       [[21],\n",
       "        [22],\n",
       "        [23],\n",
       "        [24]],\n",
       "\n",
       "       [[31],\n",
       "        [32],\n",
       "        [33],\n",
       "        [34]]])"
      ]
     },
     "execution_count": 22,
     "metadata": {},
     "output_type": "execute_result"
    }
   ],
   "source": [
    "test1.reshape(3, 4, 1)"
   ]
  },
  {
   "cell_type": "code",
   "execution_count": null,
   "metadata": {
    "collapsed": false
   },
   "outputs": [],
   "source": [
    "test1.reshape(-1)"
   ]
  },
  {
   "cell_type": "code",
   "execution_count": null,
   "metadata": {
    "collapsed": false
   },
   "outputs": [],
   "source": [
    "test1.reshape(-1).reshape(2, 3, 2)"
   ]
  },
  {
   "cell_type": "code",
   "execution_count": null,
   "metadata": {
    "collapsed": false
   },
   "outputs": [],
   "source": [
    "test1"
   ]
  },
  {
   "cell_type": "code",
   "execution_count": null,
   "metadata": {
    "collapsed": false
   },
   "outputs": [],
   "source": [
    "test1.max()"
   ]
  },
  {
   "cell_type": "code",
   "execution_count": null,
   "metadata": {
    "collapsed": false
   },
   "outputs": [],
   "source": [
    "test1.max(axis=1)"
   ]
  },
  {
   "cell_type": "code",
   "execution_count": null,
   "metadata": {
    "collapsed": true
   },
   "outputs": [],
   "source": [
    "test3 = test1.reshape(-1).reshape(2, 3, 2)"
   ]
  },
  {
   "cell_type": "code",
   "execution_count": null,
   "metadata": {
    "collapsed": false
   },
   "outputs": [],
   "source": [
    "test3"
   ]
  },
  {
   "cell_type": "code",
   "execution_count": null,
   "metadata": {
    "collapsed": false
   },
   "outputs": [],
   "source": [
    "test3.max(axis=2)"
   ]
  },
  {
   "cell_type": "code",
   "execution_count": 14,
   "metadata": {
    "collapsed": true
   },
   "outputs": [],
   "source": [
    "test4 = np.array([[[\"R11\", \"G11\", \"B11\"], [\"R12\", \"G12\", \"B12\"], [\"R13\", \"G13\", \"B13\"], [\"R14\", \"G14\", \"B14\"]],\n",
    "                  [[\"R21\", \"G21\", \"B11\"], [\"R22\", \"G22\", \"B12\"], [\"R23\", \"G23\", \"B23\"], [\"R24\", \"G23\", \"B24\"]]])"
   ]
  },
  {
   "cell_type": "code",
   "execution_count": 15,
   "metadata": {
    "collapsed": false
   },
   "outputs": [
    {
     "data": {
      "text/plain": [
       "array([[['R11', 'G11', 'B11'],\n",
       "        ['R12', 'G12', 'B12'],\n",
       "        ['R13', 'G13', 'B13'],\n",
       "        ['R14', 'G14', 'B14']],\n",
       "\n",
       "       [['R21', 'G21', 'B11'],\n",
       "        ['R22', 'G22', 'B12'],\n",
       "        ['R23', 'G23', 'B23'],\n",
       "        ['R24', 'G23', 'B24']]], \n",
       "      dtype='<U3')"
      ]
     },
     "execution_count": 15,
     "metadata": {},
     "output_type": "execute_result"
    }
   ],
   "source": [
    "test4"
   ]
  },
  {
   "cell_type": "code",
   "execution_count": 16,
   "metadata": {
    "collapsed": false
   },
   "outputs": [
    {
     "data": {
      "text/plain": [
       "(2, 4, 3)"
      ]
     },
     "execution_count": 16,
     "metadata": {},
     "output_type": "execute_result"
    }
   ],
   "source": [
    "test4.shape"
   ]
  },
  {
   "cell_type": "code",
   "execution_count": 18,
   "metadata": {
    "collapsed": false
   },
   "outputs": [],
   "source": [
    "(h, w, d) = test4.shape"
   ]
  },
  {
   "cell_type": "code",
   "execution_count": null,
   "metadata": {
    "collapsed": false
   },
   "outputs": [],
   "source": [
    "test4.transpose((2, 0, 1))"
   ]
  },
  {
   "cell_type": "code",
   "execution_count": null,
   "metadata": {
    "collapsed": false
   },
   "outputs": [],
   "source": [
    "test4.transpose((2, 0, 1)).shape"
   ]
  },
  {
   "cell_type": "markdown",
   "metadata": {},
   "source": [
    "## convolutionとpoolingの順方向実装"
   ]
  },
  {
   "cell_type": "code",
   "execution_count": 23,
   "metadata": {
    "collapsed": false
   },
   "outputs": [],
   "source": [
    "def conv(layer, X):\n",
    "    (height, width, depth) = X.shape # 入力は3次元配列を想定\n",
    "    # convolution 3x3 の入力の畳み込み層を使う\n",
    "    (conv_width, conv_height) = 3, 3\n",
    "    (conv_out_width, conv_out_height) = width - (conv_width - 1), height - (conv_height - 1)\n",
    "    conv_out = np.zeros((conv_out_height, conv_out_width, 20))  # 縦12 x 横12 x 種20 の出力結果用\n",
    "    for y in range(conv_out_height):\n",
    "        for x in range(conv_out_width):\n",
    "            window = X[y:y+conv_height, x:x+conv_width] # 窓を切り出す\n",
    "            conv_out[y, x] = layer.output_layer(window.reshape(-1)) # 窓は2次元配列なので1次元化してニューロンに渡す\n",
    "            #print(\"y:\" + str(y) + \" x:\" + str(x) + \" data:\" + str(window))\n",
    "            #plotInput(inp[y:y+ch, x:x+cw], w, h, x, y)\n",
    "    return conv_out"
   ]
  },
  {
   "cell_type": "code",
   "execution_count": 30,
   "metadata": {
    "collapsed": false
   },
   "outputs": [
    {
     "data": {
      "text/plain": [
       "<matplotlib.figure.Figure at 0x7f0f05792a90>"
      ]
     },
     "metadata": {},
     "output_type": "display_data"
    }
   ],
   "source": [
    "layer1 = Layer(3*3, 20) # 3x3の入力で20種類まで判定出来るたたみこみ層\n",
    "layer1.neurons_W = (np.random.rand(layer1.output_size, layer1.input_size) - 0.5) * 1.0 # わかりやすくするため重み初期値を大きくする\n",
    "\n",
    "alpha = 0.1\n",
    "fig = plt.figure(figsize=(8, 6))\n",
    "\n",
    "def test_convolution(train_count):\n",
    "    images, labels = mnist.train.next_batch(train_count)\n",
    "    square_error = 0.0\n",
    "    for i in range(len(images)):\n",
    "        X = smaller(images[i]).reshape(14, 14, 1) # 3次元配列で入力\n",
    "        C = conv(layer1, X)\n",
    "\n",
    "        #print(\"conv:\\n\" + str(C))\n",
    "        plt.subplot(3, 5, 1)\n",
    "        plt.tick_params(axis='x', which='both', bottom='off', top='off', labelbottom='off')\n",
    "        plt.tick_params(axis='y', which='both', left='off', right='off', labelleft='off')\n",
    "        plt.imshow(X.reshape(14, 14), vmin=0, vmax=1, cmap=plt.cm.gray_r, interpolation=\"nearest\")\n",
    "        images = C.transpose((2, 0, 1)) # 出力を特徴抽出ニューロン毎に取り出せるように配列順番を入れ替える\n",
    "        for j in range(5):\n",
    "            image = images[j]\n",
    "            plt.subplot(3, 5, j + 5 + 1)\n",
    "            plt.tick_params(axis='x', which='both', bottom='off', top='off', labelbottom='off')\n",
    "            plt.tick_params(axis='y', which='both', left='off', right='off', labelleft='off')\n",
    "            plt.imshow(image, vmin=0, vmax=1, cmap=plt.cm.gray_r, interpolation=\"nearest\")"
   ]
  },
  {
   "cell_type": "code",
   "execution_count": 31,
   "metadata": {
    "collapsed": false
   },
   "outputs": [
    {
     "data": {
      "image/png": "[encoded data removed]",
      "text/plain": [
       "<matplotlib.figure.Figure at 0x7f0f051c9b00>"
      ]
     },
     "metadata": {},
     "output_type": "display_data"
    }
   ],
   "source": [
    "test_convolution(1)"
   ]
  },
  {
   "cell_type": "code",
   "execution_count": 11,
   "metadata": {
    "collapsed": true
   },
   "outputs": [],
   "source": [
    "def pooling(conv_out):\n",
    "    (conv_out_h, conv_out_w, conv_out_z) = conv_out.shape\n",
    "    # pooling 2x2 の範囲で最大のものを抽出\n",
    "    (pw, ph) = 2, 2\n",
    "    pooling_out = np.zeros((conv_out_h // ph, conv_out_w // pw, conv_out_z))  # 縦6 x 横6 x 種20 の出力結果用\n",
    "    for z in range(conv_out_z):\n",
    "        for y in range(0, conv_out_h, ph):\n",
    "            for x in range(0, conv_out_w, pw):\n",
    "                window = conv_out[y:y+ph, x:x+pw, z]\n",
    "                value = window.max()\n",
    "                index = window.argmax()\n",
    "                pooling_out[y // ph, x // pw, z] = value # そのpoolingで最大のものを詰める\n",
    "                #print(\"y:\" + str(max_y) + \" x:\" + str(max_x) + \" z:\" + str(z) + \" value:\" + str(value))\n",
    "    return pooling_out"
   ]
  },
  {
   "cell_type": "code",
   "execution_count": 12,
   "metadata": {
    "collapsed": false
   },
   "outputs": [],
   "source": [
    "def test_pooling(train_count):\n",
    "    images, labels = mnist.train.next_batch(train_count)\n",
    "    square_error = 0.0\n",
    "    for i in range(len(images)):\n",
    "        X = smaller(images[i]).reshape(14, 14)\n",
    "        C = conv(layer1, X)\n",
    "        P = pooling(C)\n",
    "\n",
    "        #print(\"conv:\\n\" + str(C))\n",
    "        #print(\"pooling:\\n\" + str(P))\n",
    "        plt.subplot(3, 5, 1)\n",
    "        plt.tick_params(axis='x', which='both', bottom='off', top='off', labelbottom='off')\n",
    "        plt.tick_params(axis='y', which='both', left='off', right='off', labelleft='off')\n",
    "        plt.imshow(X, vmin=0, vmax=1, cmap=plt.cm.gray_r, interpolation=\"nearest\")\n",
    "        images = C.transpose((2, 0, 1))\n",
    "        for j in range(5):\n",
    "            image = images[j]\n",
    "            plt.subplot(3, 5, j + 5 + 1)\n",
    "            plt.tick_params(axis='x', which='both', bottom='off', top='off', labelbottom='off')\n",
    "            plt.tick_params(axis='y', which='both', left='off', right='off', labelleft='off')\n",
    "            plt.imshow(image, vmin=0, vmax=1, cmap=plt.cm.gray_r, interpolation=\"nearest\")\n",
    "        images = P.transpose((2, 0, 1))\n",
    "        for j in range(5):\n",
    "            image = images[j]\n",
    "            plt.subplot(3, 5, j + 10 + 1)\n",
    "            plt.tick_params(axis='x', which='both', bottom='off', top='off', labelbottom='off')\n",
    "            plt.tick_params(axis='y', which='both', left='off', right='off', labelleft='off')\n",
    "            plt.imshow(image, vmin=0, vmax=1, cmap=plt.cm.gray_r, interpolation=\"nearest\")\n"
   ]
  },
  {
   "cell_type": "code",
   "execution_count": 13,
   "metadata": {
    "collapsed": false,
    "scrolled": false
   },
   "outputs": [
    {
     "data": {
      "image/png": "[encoded data removed]",
      "text/plain": [
       "<matplotlib.figure.Figure at 0x7f0f0eaf90f0>"
      ]
     },
     "metadata": {},
     "output_type": "display_data"
    }
   ],
   "source": [
    "test_pooling(1)"
   ]
  },
  {
   "cell_type": "markdown",
   "metadata": {},
   "source": [
    "## 学習の実装"
   ]
  },
  {
   "cell_type": "code",
   "execution_count": 32,
   "metadata": {
    "collapsed": true
   },
   "outputs": [],
   "source": [
    "class Clayer:\n",
    "    def __init__(self, conv_width, conv_height, output_depth):\n",
    "        self.output_depth = output_depth\n",
    "        (self.width, self.height, self.depth) = 0, 0, 0\n",
    "        (self.conv_width, self.conv_height) = conv_width, conv_height # convolution 3x3 の入力の畳み込み層を使う\n",
    "        self.conv_layer = Layer(self.conv_width*self.conv_height, output_depth) # 3x3の入力で20種類まで判定出来るたたみこみ層\n",
    "\n",
    "    def output_layer(self, X):\n",
    "        (self.height, self.width, self.depth) = X.shape # 入力は3次元配列を想定\n",
    "        (conv_out_width, conv_out_height) = self.width - (self.conv_width - 1), self.height - (self.conv_height - 1)\n",
    "        conv_out = np.zeros((conv_out_height, conv_out_width, 20))  # 縦12 x 横12 x 種20 の出力結果用\n",
    "        for y in range(conv_out_height):\n",
    "            for x in range(conv_out_width):\n",
    "                window = X[y:y+conv_height, x:x+conv_width] # 窓を切り出す\n",
    "                conv_out[y, x] = self.conv_layer.output_layer(window.reshape(-1)) # 窓は2次元配列なので1次元化してニューロンに渡す\n",
    "        return conv_out\n",
    "\n",
    "    # 出力層での自分自身の誤差修正値をセット\n",
    "    def backprop_layer_output(self, O, T):\n",
    "        for y in range(conv_out_height):\n",
    "            for x in range(conv_out_width):\n",
    "                window = X[y:y+conv_height, x:x+conv_width] # 窓を切り出す\n",
    "                conv_out[y, x] = self.conv_layer.output_layer(window.reshape(-1)) # 窓は2次元配列なので1次元化してニューロンに渡す\n",
    "        self.conv_layer.backprop_layer_output(conv_out[y, x], T)\n",
    "        return\n",
    "\n",
    "    # 後のレイヤーで計算された誤差修正値に出力値を掛けて自レイヤーに値をセット\n",
    "    def set_layer_d(self, D, O):\n",
    "        # d = D*dh(O)\n",
    "        self.neurons_d = D*self.dh(O)\n",
    "\n",
    "    # 前のレイヤーへの誤差修正値を算出\n",
    "    def backprop_layer(self):\n",
    "        total_prev_D = np.zeros(self.input_size)\n",
    "        for i in range(self.output_size):\n",
    "            #total_prev_D += W*d\n",
    "            total_prev_D += self.neurons_W[i]*self.neurons_d[i]\n",
    "        return total_prev_D\n",
    "\n",
    "    def train_layer(self, X):\n",
    "        for i in range(self.output_size):\n",
    "            # W = W - (-alpha*d*X)\n",
    "            self.neurons_W[i] -= -alpha*self.neurons_d[i]*X\n",
    "        return"
   ]
  },
  {
   "cell_type": "code",
   "execution_count": null,
   "metadata": {
    "collapsed": true
   },
   "outputs": [],
   "source": []
  }
 ],
 "metadata": {
  "kernelspec": {
   "display_name": "Python 3",
   "language": "python",
   "name": "python3"
  },
  "language_info": {
   "codemirror_mode": {
    "name": "ipython",
    "version": 3
   },
   "file_extension": ".py",
   "mimetype": "text/x-python",
   "name": "python",
   "nbconvert_exporter": "python",
   "pygments_lexer": "ipython3",
   "version": "3.5.2"
  }
 },
 "nbformat": 4,
 "nbformat_minor": 2
}
