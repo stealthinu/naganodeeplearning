{
 "cells": [
  {
   "cell_type": "markdown",
   "metadata": {},
   "source": [
    "## 初期設定的なもの"
   ]
  },
  {
   "cell_type": "code",
   "execution_count": 2,
   "metadata": {
    "collapsed": true
   },
   "outputs": [],
   "source": [
    "import numpy as np\n",
    "import matplotlib.pyplot as plt"
   ]
  },
  {
   "cell_type": "code",
   "execution_count": 3,
   "metadata": {
    "collapsed": false
   },
   "outputs": [
    {
     "name": "stdout",
     "output_type": "stream",
     "text": [
      "Extracting /tmp/data/train-images-idx3-ubyte.gz\n",
      "Extracting /tmp/data/train-labels-idx1-ubyte.gz\n",
      "Extracting /tmp/data/t10k-images-idx3-ubyte.gz\n",
      "Extracting /tmp/data/t10k-labels-idx1-ubyte.gz\n"
     ]
    }
   ],
   "source": [
    "from tensorflow.examples.tutorials.mnist import input_data\n",
    "mnist = input_data.read_data_sets(\"/tmp/data/\", one_hot=True)"
   ]
  },
  {
   "cell_type": "code",
   "execution_count": 306,
   "metadata": {
    "collapsed": true
   },
   "outputs": [],
   "source": [
    "def sigmoid(x):\n",
    "    return 1 / (1 + np.exp(-x))\n",
    "\n",
    "def dsigmoid(x):\n",
    "    return x*(1 - x)\n",
    "\n",
    "class Layer:\n",
    "    def __init__(self, input_size, output_size):\n",
    "        self.input_size = input_size                           # 入力数\n",
    "        self.output_size = output_size                         # ニューロン数と同じ\n",
    "        self.neurons_W = (np.random.rand(output_size, input_size) - 0.5) * 0.1 # ニューロンごとに入力と同数の足がある分の重み\n",
    "        self.neurons_b = (np.random.rand(output_size) - 0.5) * 0.2             # ニューロンごとのしきい値\n",
    "        self.neurons_d = np.zeros(output_size)                                 # ニューロンごとの誤差修正値\n",
    "    \n",
    "    def h(self, x):\n",
    "        return sigmoid(x)\n",
    "        #return tanh(x)\n",
    "        #return relu(x)\n",
    "    \n",
    "    def dh(self, y):\n",
    "        return dsigmoid(y)\n",
    "        #return dtanh(y)\n",
    "        #return drelu(y)\n",
    "    \n",
    "    def output_layer(self, X):\n",
    "        y = np.zeros(self.output_size)\n",
    "        for i in range(self.output_size):\n",
    "            # y = h(sum(W*X) - b)\n",
    "            y[i] = self.h(np.sum(self.neurons_W[i]*X) - self.neurons_b[i])\n",
    "        return y\n",
    "\n",
    "    def train_layer(self, X):\n",
    "        for i in range(self.output_size):\n",
    "            # W = W - (-alpha*d*X)\n",
    "            self.neurons_W[i] -= -alpha*self.neurons_d[i]*X\n",
    "        return\n",
    "    \n",
    "    # 出力層での自分自身の誤差修正値をセット\n",
    "    def backprop_layer_output(self, O, T):\n",
    "        # d = (T - O)*dh(O)\n",
    "        self.neurons_d = (T - O)*self.dh(O)\n",
    "        return\n",
    "\n",
    "    # 前のレイヤーへの誤差修正値を算出\n",
    "    def backprop_layer(self):\n",
    "        total_prev_D = np.zeros(self.input_size)\n",
    "        for i in range(self.output_size):\n",
    "            #total_prev_D += W*d\n",
    "            total_prev_D += self.neurons_W[i]*self.neurons_d[i]\n",
    "        return total_prev_D\n",
    "\n",
    "    # 後のレイヤーで計算された誤差修正値に出力値を掛けて自レイヤーに値をセット\n",
    "    def set_layer_d(self, D, O):\n",
    "        # d = D*dh(O)\n",
    "        self.neurons_d = D*self.dh(O)\n"
   ]
  },
  {
   "cell_type": "code",
   "execution_count": 5,
   "metadata": {
    "collapsed": true
   },
   "outputs": [],
   "source": [
    "def smaller(image):\n",
    "    def seri(x, y):\n",
    "        return y*28 + x\n",
    "\n",
    "    simages = np.zeros(14*14)\n",
    "    for i in range(14):\n",
    "        for j in range(14):\n",
    "            x, y = j*2, i*2\n",
    "            avg = (image[seri(x+0, y+0)] + image[seri(x+0, y+1)] + image[seri(x+1, y+0)] + image[seri(x+1, y+1)])/4.0\n",
    "            simages[i*14 + j] = avg\n",
    "    return simages"
   ]
  },
  {
   "cell_type": "code",
   "execution_count": 76,
   "metadata": {
    "collapsed": false
   },
   "outputs": [
    {
     "data": {
      "text/plain": [
       "<matplotlib.figure.Figure at 0x7fcdaf59b470>"
      ]
     },
     "execution_count": 76,
     "metadata": {},
     "output_type": "execute_result"
    },
    {
     "data": {
      "text/plain": [
       "<matplotlib.figure.Figure at 0x7fcdaf59b470>"
      ]
     },
     "metadata": {},
     "output_type": "display_data"
    }
   ],
   "source": [
    "plt.figure(figsize=(20,10))"
   ]
  },
  {
   "cell_type": "code",
   "execution_count": 103,
   "metadata": {
    "collapsed": true
   },
   "outputs": [],
   "source": [
    "def plotInput(image, w, h, x, y):\n",
    "    plt.subplot(w, h, y*w + x + 1)\n",
    "    plt.tick_params(axis='x', which='both', bottom='off', top='off', labelbottom='off')\n",
    "    plt.tick_params(axis='y', which='both', left='off', right='off', labelleft='off')\n",
    "    plt.imshow(image, vmin=0, vmax=1, cmap=plt.cm.gray_r, interpolation=\"nearest\")\n"
   ]
  },
  {
   "cell_type": "markdown",
   "metadata": {},
   "source": [
    "## numpyで配列の範囲の扱い"
   ]
  },
  {
   "cell_type": "code",
   "execution_count": 307,
   "metadata": {
    "collapsed": true
   },
   "outputs": [],
   "source": [
    "test1 = np.array([[11, 12, 13, 14], [21, 22, 23, 24], [31, 32, 33, 34]])"
   ]
  },
  {
   "cell_type": "code",
   "execution_count": 311,
   "metadata": {
    "collapsed": false
   },
   "outputs": [
    {
     "data": {
      "text/plain": [
       "array([[21, 22],\n",
       "       [31, 32]])"
      ]
     },
     "execution_count": 311,
     "metadata": {},
     "output_type": "execute_result"
    }
   ],
   "source": [
    "test1[1:3, 0:2]"
   ]
  },
  {
   "cell_type": "code",
   "execution_count": 313,
   "metadata": {
    "collapsed": false
   },
   "outputs": [],
   "source": [
    "test2 = test1[1:3, 0:2]"
   ]
  },
  {
   "cell_type": "code",
   "execution_count": 314,
   "metadata": {
    "collapsed": true
   },
   "outputs": [],
   "source": [
    "test2[:] = test2 * 2"
   ]
  },
  {
   "cell_type": "code",
   "execution_count": 315,
   "metadata": {
    "collapsed": false
   },
   "outputs": [
    {
     "data": {
      "text/plain": [
       "array([[11, 12, 13, 14],\n",
       "       [42, 44, 23, 24],\n",
       "       [62, 64, 33, 34]])"
      ]
     },
     "execution_count": 315,
     "metadata": {},
     "output_type": "execute_result"
    }
   ],
   "source": [
    "test1"
   ]
  },
  {
   "cell_type": "code",
   "execution_count": 317,
   "metadata": {
    "collapsed": false
   },
   "outputs": [
    {
     "data": {
      "text/plain": [
       "(3, 4)"
      ]
     },
     "execution_count": 317,
     "metadata": {},
     "output_type": "execute_result"
    }
   ],
   "source": [
    "test1.shape"
   ]
  },
  {
   "cell_type": "code",
   "execution_count": 318,
   "metadata": {
    "collapsed": false
   },
   "outputs": [
    {
     "data": {
      "text/plain": [
       "array([11, 12, 13, 14, 42, 44, 23, 24, 62, 64, 33, 34])"
      ]
     },
     "execution_count": 318,
     "metadata": {},
     "output_type": "execute_result"
    }
   ],
   "source": [
    "test1.reshape(-1)"
   ]
  },
  {
   "cell_type": "code",
   "execution_count": 319,
   "metadata": {
    "collapsed": false
   },
   "outputs": [
    {
     "data": {
      "text/plain": [
       "array([[[11, 12],\n",
       "        [13, 14],\n",
       "        [42, 44]],\n",
       "\n",
       "       [[23, 24],\n",
       "        [62, 64],\n",
       "        [33, 34]]])"
      ]
     },
     "execution_count": 319,
     "metadata": {},
     "output_type": "execute_result"
    }
   ],
   "source": [
    "test1.reshape(-1).reshape(2, 3, 2)"
   ]
  },
  {
   "cell_type": "markdown",
   "metadata": {},
   "source": [
    "## convolutionとpoolingの順方向実装"
   ]
  },
  {
   "cell_type": "code",
   "execution_count": 302,
   "metadata": {
    "collapsed": true
   },
   "outputs": [],
   "source": [
    "conv1 = Layer(3*3, 20) # 3x3の入力で20種類まで判定出来るたたみこみ層"
   ]
  },
  {
   "cell_type": "code",
   "execution_count": 303,
   "metadata": {
    "collapsed": false
   },
   "outputs": [],
   "source": [
    "def conv(conv, inp):\n",
    "    (h, w) = inp.shape\n",
    "    # convolution\n",
    "    (cw, ch) = 3, 3\n",
    "    (out_w, out_h) = w - (cw - 1), h - (ch - 1)\n",
    "    out = np.zeros((out_h, out_w, 20))  # 縦12 x 横12 x 種20 の出力結果用\n",
    "    for y in range(out_h):\n",
    "        for x in range(out_w):\n",
    "            window = inp[y:y+ch, x:x+cw].reshape(-1) # 窓を切り出して1次元配列にする\n",
    "            out[y, x] = conv.output_layer(window)\n",
    "            #print(\"y:\" + str(y) + \" x:\" + str(x) + \" data:\" + str(window))\n",
    "            #plotInput(inp[y:y+ch, x:x+cw], w, h, x, y)\n",
    "    return out\n",
    "\n",
    "def pooling(conv_out):\n",
    "    (conv_out_h, conv_out_w, conv_out_z) = conv_out.shape\n",
    "    # pooling 2x2 の範囲で最大のものを抽出\n",
    "    (pw, ph) = 2, 2\n",
    "    pooling = np.zeros((conv_out_h / ph, conv_out_w / pw, 20))  # 縦6 x 横6 x 種20 の出力結果用\n",
    "    for y in range(0, conv_out_h, ph):\n",
    "        for x in range(0, conv_out_w, pw):\n",
    "            window = conv_out[y:y+ph, x:x+pw]\n",
    "            # どの窓のどのパターンが一番反応したかを割り出す\n",
    "            value = window.max()\n",
    "            index = window.argmax()\n",
    "            (window_y, window_x, z) = np.unravel_index(index, window.shape) # 配列が y, x, z 順の構造になってるの注意\n",
    "            (max_y, max_x) = window_y + y, window_x + x\n",
    "            pooling[y / ph, x / pw, z] = value # そのpoolingで最大のものを詰める\n",
    "            #print(\"y:\" + str(max_y) + \" x:\" + str(max_x) + \" z:\" + str(z) + \" value:\" + str(value))\n",
    "    return pooling\n",
    "\n",
    "def train_pooling(conv, inp, conv_out):\n",
    "    (conv_out_h, conv_out_w, conv_out_z) = conv_out.shape\n",
    "    # convolution\n",
    "    (cw, ch) = 3, 3\n",
    "    # pooling 2x2 の範囲で最大のものを抽出\n",
    "    (pw, ph) = 2, 2\n",
    "    for y in range(0, conv_out_h, ph):\n",
    "        for x in range(0, conv_out_w, pw):\n",
    "            window = conv_out[y:y+ph, x:x+pw]\n",
    "            # どの窓のどのパターンが一番反応したかを割り出す\n",
    "            value = window.max()\n",
    "            index = window.argmax()\n",
    "            (window_y, window_x, z) = np.unravel_index(index, window.shape) # 配列が y, x, z 順の構造になってるの注意\n",
    "            (max_y, max_x) = window_y + y, window_x + x\n",
    "            #print(\"y:\" + str(max_y) + \" x:\" + str(max_x) + \" z:\" + str(z) + \" value:\" + str(value))\n",
    "            # 最大のやつだけを「1」を出すよう訓練\n",
    "            conv_inp = inp[max_y:max_y+ch, max_x:max_x+cw].reshape(-1)\n",
    "            print(\"y:\" + str(max_y) + \" x:\" + str(max_x) + \" z:\" + str(z) + \" value:\" + str(value))\n",
    "            #conv.train_neuron(conv.w[z], conv.b[z], conv_inp, 1)\n",
    "            t = np.zeros(20)\n",
    "            t[z] = 1.0\n",
    "            conv.train_layer(conv_inp, t)\n"
   ]
  },
  {
   "cell_type": "code",
   "execution_count": 304,
   "metadata": {
    "collapsed": false
   },
   "outputs": [
    {
     "data": {
      "text/plain": [
       "<matplotlib.figure.Figure at 0x7fcdad993128>"
      ]
     },
     "metadata": {},
     "output_type": "display_data"
    }
   ],
   "source": [
    "alpha = 0.1\n",
    "\n",
    "fig = plt.figure(figsize=(16,8))\n",
    "\n",
    "def train_neocognitron(train_count):\n",
    "    images, labels = mnist.train.next_batch(train_count)\n",
    "    square_error = 0.0\n",
    "    for i in range(len(images)):\n",
    "        X = smaller(images[i]).reshape(14, 14)\n",
    "        Y = conv(conv1, X)\n",
    "        #print(pooling(Y))\n",
    "        train_pooling(conv1, X, Y)\n"
   ]
  },
  {
   "cell_type": "code",
   "execution_count": null,
   "metadata": {
    "collapsed": false,
    "scrolled": false
   },
   "outputs": [],
   "source": [
    "train_neocognitron(100)"
   ]
  },
  {
   "cell_type": "code",
   "execution_count": null,
   "metadata": {
    "collapsed": true
   },
   "outputs": [],
   "source": []
  }
 ],
 "metadata": {
  "kernelspec": {
   "display_name": "Python 3",
   "language": "python",
   "name": "python3"
  },
  "language_info": {
   "codemirror_mode": {
    "name": "ipython",
    "version": 3
   },
   "file_extension": ".py",
   "mimetype": "text/x-python",
   "name": "python",
   "nbconvert_exporter": "python",
   "pygments_lexer": "ipython3",
   "version": "3.5.2"
  }
 },
 "nbformat": 4,
 "nbformat_minor": 2
}
